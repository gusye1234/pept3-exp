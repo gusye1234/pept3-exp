{
 "cells": [
  {
   "cell_type": "code",
   "execution_count": 17,
   "metadata": {},
   "outputs": [],
   "source": [
    "import os\n",
    "import sys\n",
    "sys.path.append(\"..\")\n",
    "import pandas as pd\n",
    "import matplotlib.pyplot as plt"
   ]
  },
  {
   "cell_type": "code",
   "execution_count": 18,
   "metadata": {},
   "outputs": [],
   "source": [
    "merge_which = \"chymo_trypsin_2w\"\n",
    "merge_tab = f\"/data2/yejb/prosit/figs/fig235/round1/{merge_which}/\"\n",
    "\n",
    "tab_before = f\"/data2/yejb/prosit/figs/fig235/round1/{merge_which}/percolator/before\"\n",
    "tab_after = f\"/data2/yejb/prosit/figs/fig235/round1/{merge_which}/percolator/after_0.1\"\n",
    "\n",
    "fake_ids = os.path.join(merge_tab, \"fake_decoys.txt\")"
   ]
  },
  {
   "cell_type": "code",
   "execution_count": 19,
   "metadata": {},
   "outputs": [
    {
     "name": "stdout",
     "output_type": "stream",
     "text": [
      "40000\n"
     ]
    }
   ],
   "source": [
    "all_ids = pd.read_csv(fake_ids, sep='\\t')\n",
    "all_ids = all_ids[all_ids.columns[1]].to_list()\n",
    "print(len(all_ids))"
   ]
  },
  {
   "cell_type": "code",
   "execution_count": 20,
   "metadata": {},
   "outputs": [],
   "source": [
    "data = pd.read_csv(os.path.join(\n",
    "    f\"/data2/yejb/prosit/figs/fig235/round1/{merge_which}\", \"fixed_features.tab\"\n",
    "), sep='\\t')\n",
    "\n",
    "data_ori = pd.read_csv(\n",
    "    \"/data2/yejb/prosit/figs/fig235/chymo/percolator_up/try/prosit_l1/no_finetuned_3fold/sa.tab\", \n",
    "    sep='\\t')"
   ]
  },
  {
   "cell_type": "code",
   "execution_count": 21,
   "metadata": {},
   "outputs": [],
   "source": [
    "merge_set = set(data['Peptide'])\n",
    "ori_set = set(data_ori['Peptide'])"
   ]
  },
  {
   "cell_type": "code",
   "execution_count": 22,
   "metadata": {},
   "outputs": [
    {
     "name": "stdout",
     "output_type": "stream",
     "text": [
      "267956 401306 0\n",
      "40000 37435 287209 19253 420565 19259 0\n"
     ]
    }
   ],
   "source": [
    "print(\n",
    "    len(set(data_ori[data_ori['Label'] == -1]['Peptide'])),\n",
    "    len(set(data_ori[data_ori['Label'] == 1]['Peptide'])),\n",
    "    len(set(data_ori[data_ori['Label'] == 1]['Peptide']).intersection(set(data_ori[data_ori['Label'] == -1]['Peptide'])))\n",
    ")\n",
    "\n",
    "set_all_ids = set(all_ids)\n",
    "fake_index = data['SpecId'].apply(lambda x: x in set_all_ids)\n",
    "print(\n",
    "    fake_index.sum(),\n",
    "    len(set(data[fake_index]['Peptide'])),\n",
    "    len(set(data[data['Label'] == -1]['Peptide'])),\n",
    "    len(set(data[data['Label'] == -1]['Peptide']).intersection(set(data[fake_index]['Peptide']))),\n",
    "    len(set(data[data['Label'] == 1]['Peptide'])),\n",
    "    len(set(data[data['Label'] == 1]['Peptide']).intersection(set(data[fake_index]['Peptide']))),\n",
    "    len(set(data_ori[data_ori['Label'] == 1]['Peptide']).intersection(set(data[fake_index]['Peptide'])))\n",
    ")"
   ]
  },
  {
   "cell_type": "code",
   "execution_count": 23,
   "metadata": {},
   "outputs": [],
   "source": [
    "set_true_decoy = set(data[data['Label'] == -1]['Peptide']).intersection(set(data[fake_index]['Peptide']))\n",
    "set_false_target = set(data[data['Label'] == 1]['Peptide']).intersection(set(data[fake_index]['Peptide']))"
   ]
  },
  {
   "cell_type": "code",
   "execution_count": 24,
   "metadata": {},
   "outputs": [
    {
     "data": {
      "text/plain": [
       "1077"
      ]
     },
     "execution_count": 24,
     "metadata": {},
     "output_type": "execute_result"
    }
   ],
   "source": [
    "len(set_true_decoy.intersection(set_false_target))"
   ]
  },
  {
   "cell_type": "code",
   "execution_count": 25,
   "metadata": {},
   "outputs": [
    {
     "name": "stdout",
     "output_type": "stream",
     "text": [
      "19994\n"
     ]
    }
   ],
   "source": [
    "name = \"prosit_combined\"\n",
    "before_sa = pd.read_csv(os.path.join(\n",
    "    tab_before,\n",
    "    f\"{name}_target.psms\"\n",
    "), sep='\\t')\n",
    "\n",
    "after_sa = pd.read_csv(os.path.join(\n",
    "    tab_after,\n",
    "    f\"{name}_target.psms\"\n",
    "), sep='\\t')\n",
    "\n",
    "psmid1 = set(before_sa[\"PSMId\"].to_list())\n",
    "psmid2 = set(after_sa[\"PSMId\"].to_list())\n",
    "left_target = []\n",
    "for a in all_ids:\n",
    "    if a in psmid1 and a in psmid2:\n",
    "        left_target.append(a)\n",
    "print(len(left_target))\n",
    "left_target = set(left_target)"
   ]
  },
  {
   "cell_type": "code",
   "execution_count": 26,
   "metadata": {},
   "outputs": [
    {
     "name": "stdout",
     "output_type": "stream",
     "text": [
      "990553 1751862 1751862\n"
     ]
    }
   ],
   "source": [
    "print(min(all_ids), before_sa['PSMId'].max(), after_sa['PSMId'].max())\n"
   ]
  },
  {
   "cell_type": "code",
   "execution_count": 27,
   "metadata": {},
   "outputs": [
    {
     "name": "stdout",
     "output_type": "stream",
     "text": [
      "19994 19995\n"
     ]
    }
   ],
   "source": [
    "all_ids = set(all_ids)\n",
    "before_fdr = before_sa[before_sa['PSMId'].apply(lambda x: x in all_ids)]['q-value'].to_numpy()\n",
    "after_fdr = after_sa[after_sa['PSMId'].apply(lambda x: x in all_ids)]['q-value'].to_numpy()\n",
    "\n",
    "\n",
    "print(len(before_fdr), len(after_fdr))"
   ]
  },
  {
   "cell_type": "code",
   "execution_count": 28,
   "metadata": {},
   "outputs": [
    {
     "name": "stdout",
     "output_type": "stream",
     "text": [
      "0.004585464613486898 0.0035538924526807634\n"
     ]
    }
   ],
   "source": [
    "fdr = 0.1\n",
    "print((before_fdr < fdr).sum()/(before_sa['q-value']< fdr).sum(),\n",
    "      (after_fdr < fdr).sum()/(after_sa['q-value']< fdr).sum())"
   ]
  },
  {
   "cell_type": "code",
   "execution_count": 29,
   "metadata": {},
   "outputs": [
    {
     "name": "stdout",
     "output_type": "stream",
     "text": [
      "1368 298334 1077 303048\n"
     ]
    }
   ],
   "source": [
    "fdr = 0.1\n",
    "print((before_fdr < fdr).sum(),\n",
    "      (before_sa['q-value']< fdr).sum(),\n",
    "      (after_fdr < fdr).sum(),\n",
    "      (after_sa['q-value']< fdr).sum())"
   ]
  },
  {
   "cell_type": "code",
   "execution_count": 30,
   "metadata": {},
   "outputs": [
    {
     "data": {
      "text/plain": [
       "19994"
      ]
     },
     "execution_count": 30,
     "metadata": {},
     "output_type": "execute_result"
    }
   ],
   "source": [
    "len(before_fdr)"
   ]
  },
  {
   "cell_type": "code",
   "execution_count": 31,
   "metadata": {},
   "outputs": [
    {
     "data": {
      "image/png": "[encoded data removed]",
      "text/plain": [
       "<Figure size 432x288 with 1 Axes>"
      ]
     },
     "metadata": {
      "needs_background": "light"
     },
     "output_type": "display_data"
    }
   ],
   "source": [
    "see = plt.hist(before_fdr, bins=50, density=True, histtype='step', label=\"Before PepT3\")\n",
    "see = plt.hist(after_fdr, bins=50, density=True, histtype='step', label=\"After PepT3\")\n",
    "plt.title(\"Chymo_Trypsin\")\n",
    "plt.text(0, 2, \"n=20,000\")\n",
    "plt.xlabel(\"FDR\")\n",
    "plt.ylabel(\"Counts\")\n",
    "plt.legend(loc='lower center')\n",
    "plt.savefig(f\"./fig/entrapment-{len(before_fdr)}.svg\", dpi=300, bbox_inches=\"tight\")"
   ]
  },
  {
   "cell_type": "code",
   "execution_count": 14,
   "metadata": {},
   "outputs": [
    {
     "data": {
      "text/plain": [
       "507711"
      ]
     },
     "execution_count": 14,
     "metadata": {},
     "output_type": "execute_result"
    }
   ],
   "source": []
  },
  {
   "cell_type": "code",
   "execution_count": null,
   "metadata": {},
   "outputs": [],
   "source": []
  }
 ],
 "metadata": {
  "kernelspec": {
   "display_name": "base",
   "language": "python",
   "name": "python3"
  },
  "language_info": {
   "codemirror_mode": {
    "name": "ipython",
    "version": 3
   },
   "file_extension": ".py",
   "mimetype": "text/x-python",
   "name": "python",
   "nbconvert_exporter": "python",
   "pygments_lexer": "ipython3",
   "version": "3.9.5"
  },
  "orig_nbformat": 4,
  "vscode": {
   "interpreter": {
    "hash": "17465660725f2b6bdd0101ccb038f8fe4c98405cd7a343be234717463386f391"
   }
  }
 },
 "nbformat": 4,
 "nbformat_minor": 2
}
