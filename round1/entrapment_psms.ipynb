{
 "cells": [
  {
   "cell_type": "code",
   "execution_count": 1,
   "metadata": {},
   "outputs": [],
   "source": [
    "import os\n",
    "import sys\n",
    "sys.path.append(\"..\")\n",
    "import pandas as pd\n",
    "import matplotlib.pyplot as plt"
   ]
  },
  {
   "cell_type": "code",
   "execution_count": 2,
   "metadata": {},
   "outputs": [],
   "source": [
    "merge_which = \"trypsin_lysc\"\n",
    "merge_tab = f\"/data2/yejb/prosit/figs/fig235/round1/{merge_which}/\"\n",
    "\n",
    "tab_before = f\"/data2/yejb/prosit/figs/fig235/round1/{merge_which}/percolator/before\"\n",
    "tab_after = f\"/data2/yejb/prosit/figs/fig235/round1/{merge_which}/percolator/after\"\n",
    "\n",
    "fake_ids = os.path.join(merge_tab, \"fake_decoys.txt\")"
   ]
  },
  {
   "cell_type": "code",
   "execution_count": 3,
   "metadata": {},
   "outputs": [],
   "source": [
    "all_ids = pd.read_csv(fake_ids, sep='\\t')\n",
    "all_ids = all_ids[all_ids.columns[1]].to_list()"
   ]
  },
  {
   "cell_type": "code",
   "execution_count": 8,
   "metadata": {},
   "outputs": [
    {
     "name": "stdout",
     "output_type": "stream",
     "text": [
      "4998\n"
     ]
    }
   ],
   "source": [
    "name = \"sa\"\n",
    "before_sa = pd.read_csv(os.path.join(\n",
    "    tab_before,\n",
    "    f\"{name}_target.psms\"\n",
    "), sep='\\t')\n",
    "\n",
    "after_sa = pd.read_csv(os.path.join(\n",
    "    tab_after,\n",
    "    f\"{name}_target.psms\"\n",
    "), sep='\\t')\n",
    "\n",
    "psmid1 = set(before_sa[\"PSMId\"].to_list())\n",
    "psmid2 = set(after_sa[\"PSMId\"].to_list())\n",
    "left_target = []\n",
    "for a in all_ids:\n",
    "    if a in psmid1 and a in psmid2:\n",
    "        left_target.append(a)\n",
    "print(len(left_target))\n",
    "left_target = set(left_target)"
   ]
  },
  {
   "cell_type": "code",
   "execution_count": 9,
   "metadata": {},
   "outputs": [],
   "source": [
    "before_fdr = before_sa[before_sa['PSMId'].apply(lambda x: x in left_target)]['q-value'].to_numpy()\n",
    "after_fdr = after_sa[after_sa['PSMId'].apply(lambda x: x in left_target)]['q-value'].to_numpy()"
   ]
  },
  {
   "cell_type": "code",
   "execution_count": 10,
   "metadata": {},
   "outputs": [
    {
     "name": "stdout",
     "output_type": "stream",
     "text": [
      "0.00022910257249459973 0.000404195431420044\n"
     ]
    }
   ],
   "source": [
    "print((before_fdr < 0.01).sum()/(before_sa['q-value']< 0.01).sum(),\n",
    "      (after_fdr < 0.01).sum()/(after_sa['q-value']< 0.01).sum())"
   ]
  },
  {
   "cell_type": "code",
   "execution_count": 11,
   "metadata": {},
   "outputs": [
    {
     "name": "stdout",
     "output_type": "stream",
     "text": [
      "77 336094 138 341419\n"
     ]
    }
   ],
   "source": [
    "fdr = 0.01\n",
    "print((before_fdr < fdr).sum(),\n",
    "      (before_sa['q-value']< fdr).sum(),\n",
    "      (after_fdr < fdr).sum(),\n",
    "      (after_sa['q-value']< fdr).sum())"
   ]
  },
  {
   "cell_type": "code",
   "execution_count": 51,
   "metadata": {},
   "outputs": [
    {
     "data": {
      "image/png": "[encoded data removed]",
      "text/plain": [
       "<Figure size 432x288 with 1 Axes>"
      ]
     },
     "metadata": {
      "needs_background": "light"
     },
     "output_type": "display_data"
    }
   ],
   "source": [
    "see = plt.hist(before_fdr, bins=50, density=True)\n",
    "see = plt.hist(after_fdr, bins=50, density=True)"
   ]
  },
  {
   "cell_type": "code",
   "execution_count": 14,
   "metadata": {},
   "outputs": [
    {
     "data": {
      "text/plain": [
       "507711"
      ]
     },
     "execution_count": 14,
     "metadata": {},
     "output_type": "execute_result"
    }
   ],
   "source": [
    "len(after_sa)"
   ]
  }
 ],
 "metadata": {
  "kernelspec": {
   "display_name": "base",
   "language": "python",
   "name": "python3"
  },
  "language_info": {
   "codemirror_mode": {
    "name": "ipython",
    "version": 3
   },
   "file_extension": ".py",
   "mimetype": "text/x-python",
   "name": "python",
   "nbconvert_exporter": "python",
   "pygments_lexer": "ipython3",
   "version": "3.9.5"
  },
  "orig_nbformat": 4,
  "vscode": {
   "interpreter": {
    "hash": "17465660725f2b6bdd0101ccb038f8fe4c98405cd7a343be234717463386f391"
   }
  }
 },
 "nbformat": 4,
 "nbformat_minor": 2
}
