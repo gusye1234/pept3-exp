{
 "cells": [
  {
   "cell_type": "code",
   "execution_count": 14,
   "metadata": {},
   "outputs": [],
   "source": [
    "import pandas as pd\n",
    "import matplotlib.pyplot as plt\n",
    "import numpy as np"
   ]
  },
  {
   "cell_type": "code",
   "execution_count": 5,
   "metadata": {},
   "outputs": [
    {
     "name": "stdout",
     "output_type": "stream",
     "text": [
      "-------------------------------\n",
      "sprot_human\n",
      "-------------------------------\n",
      "IGC\n",
      "104416 108934\n",
      "-------------------------------\n",
      "sprot_all\n",
      "36031 38106\n",
      "-------------------------------\n",
      "sprot_bacteria_human\n",
      "34369 36047\n"
     ]
    }
   ],
   "source": [
    "original_tab = \"\"\n",
    "\n",
    "frag_model = \"prosit_l1\"\n",
    "for which in [\"sprot_human\", \"IGC\", \"sprot_all\", \"sprot_bacteria_human\"]:\n",
    "    print(\"-------------------------------\")\n",
    "    print(which)\n",
    "    our_prosit_tab = f\"/data2/yejb/prosit/figs/figure6/{which}/percolator/try/prosit_l1/no_finetuned_3fold/prosit_combined_target.psms\"\n",
    "    original_tab = f\"/data2/yejb/prosit/figs/figure6/{which}/percolator/try/prosit_l1/prosit_combined_target.psms\"\n",
    "    \n",
    "    try:\n",
    "        ori = pd.read_csv(our_prosit_tab, sep='\\t')\n",
    "        our = pd.read_csv(original_tab, sep='\\t')\n",
    "        print(\"\")\n",
    "        print((ori['q-value'] < 0.01).sum(), (our['q-value'] < 0.01).sum())\n",
    "    except:\n",
    "        continue\n",
    "    "
   ]
  },
  {
   "cell_type": "code",
   "execution_count": 12,
   "metadata": {},
   "outputs": [
    {
     "name": "stdout",
     "output_type": "stream",
     "text": [
      "-------------------------------\n",
      "boosting figure3 Mel-3_HLA-I\n",
      "\n",
      "34820 33863\n",
      "-------------------------------\n",
      "boosting figure3 Mel-4_HLA-I\n",
      "\n",
      "40211 39401\n",
      "-------------------------------\n",
      "boosting figure3 Mel-12_HLA-I\n",
      "\n",
      "46545 44923\n",
      "-------------------------------\n",
      "boosting figure3 Mel-5_HLA-I\n",
      "\n",
      "47130 46544\n",
      "-------------------------------\n",
      "boosting figure3 Mel-8_HLA-I\n",
      "\n",
      "54118 52754\n",
      "-------------------------------\n",
      "boosting figure3 Mel-15_HLA-I\n",
      "\n",
      "418078 416349\n",
      "-------------------------------\n",
      "boosting figure3 Mel-16_HLA-I\n",
      "\n",
      "252674 248050\n",
      "-------------------------------\n",
      "boosting figure3 Mel-21_HLA-I\n",
      "\n",
      "67617 67055\n",
      "-------------------------------\n",
      "boosting figure3 Mel-27_HLA-I\n",
      "\n",
      "62457 61436\n",
      "-------------------------------\n",
      "boosting figure3 Mel-28_HLA-I\n",
      "\n",
      "38356 37775\n",
      "-------------------------------\n",
      "boosting figure3 Mel-41_HLA-I\n",
      "\n",
      "54319 53670\n",
      "-------------------------------\n",
      "boosting figure3 Mel-24_HLA-I\n",
      "\n",
      "33386 33181\n",
      "-------------------------------\n",
      "boosting figure3 Mel-30_HLA-I\n",
      "\n",
      "24252 24103\n",
      "-------------------------------\n",
      "boosting figure3 Mel-38_HLA-I\n",
      "\n",
      "16644 16312\n",
      "-------------------------------\n",
      "boosting figure3 Mel-39_HLA-I\n",
      "\n",
      "43343 43037\n",
      "-------------------------------\n",
      "boosting figure3 Mel-25_HLA-I\n",
      "\n",
      "25421 24901\n",
      "-------------------------------\n",
      "boosting figure3 Mel-26_HLA-I\n",
      "\n",
      "30713 30190\n",
      "-------------------------------\n",
      "boosting figure3 Mel-29_HLA-I\n",
      "\n",
      "30613 30431\n",
      "-------------------------------\n",
      "boosting figure3 Mel-33_HLA-I\n",
      "\n",
      "38813 38728\n",
      "-------------------------------\n",
      "boosting figure3 Mel-36_HLA-I\n",
      "\n",
      "32347 31998\n",
      "-------------------------------\n",
      "boosting figure3 Mel-40_HLA-I\n",
      "\n",
      "13390 12972\n",
      "-------------------------------\n",
      "boosting figure3 Mel-20_HLA-I\n",
      "\n",
      "9139 9003\n",
      "-------------------------------\n",
      "boosting figure3 Mel-34_HLA-I\n",
      "\n",
      "10734 10439\n",
      "-------------------------------\n",
      "boosting figure3 Mel-35_HLA-I\n",
      "\n",
      "18607 18392\n",
      "-------------------------------\n",
      "boosting figure3 Mel-42_HLA-I\n",
      "\n",
      "19961 19621\n"
     ]
    }
   ],
   "source": [
    "hla_mel = pd.read_csv(\"../figs/data/HLA_Mel.csv\")\n",
    "hla_mel = hla_mel[hla_mel['Experiment'].apply(\n",
    "    lambda x: x.endswith(\"HLA-I\"))]\n",
    "Mels = hla_mel['Experiment'].unique()\n",
    "\n",
    "x = []\n",
    "y_ori = []\n",
    "y_our = []\n",
    "for which in Mels:\n",
    "# for which in ['Mel-15_HLA-I']:\n",
    "    print(\"-------------------------------\")\n",
    "    print(\"boosting figure3\", which)\n",
    "    our_tab = f\"/data/yejb/prosit/figs/boosting/figs/Figure_5_HLA_1/prosit_hcd/3fold_Mels_0.1/{which}_ori/prosit_target.psms\"\n",
    "    ori_tab = f\"/data/yejb/prosit/figs/boosting/figs/Figure_5_HLA_1/forPride/rescoring_for_paper_2/Mels/{which}/percolator/prosit_target.psms\"\n",
    "    ori = pd.read_csv(ori_tab, sep='\\t')\n",
    "    our = pd.read_csv(our_tab, sep='\\t')\n",
    "    print(\"\")\n",
    "    print((ori['q-value'] < 0.01).sum(), (our['q-value'] < 0.01).sum())\n",
    "    y_ori.append((ori['q-value'] < 0.01).sum())\n",
    "    y_our.append((our['q-value'] < 0.01).sum())\n",
    "    "
   ]
  },
  {
   "cell_type": "code",
   "execution_count": 32,
   "metadata": {},
   "outputs": [
    {
     "data": {
      "text/plain": [
       "Text(0, 0.5, 're-trained prosit2020')"
      ]
     },
     "execution_count": 32,
     "metadata": {},
     "output_type": "execute_result"
    },
    {
     "data": {
      "image/png": "[encoded data removed]",
      "text/plain": [
       "<Figure size 432x288 with 1 Axes>"
      ]
     },
     "metadata": {
      "needs_background": "light"
     },
     "output_type": "display_data"
    }
   ],
   "source": [
    "x = np.linspace(min(*y_ori), max(*y_ori), num=100)\n",
    "k, b = np.polyfit(y_ori, y_our, deg=1)\n",
    "\n",
    "plt.scatter(y_ori, y_our)\n",
    "plt.plot(x, k*x+b, linewidth=1, alpha=0.5, label=f\"y={k:.4f}x\")\n",
    "plt.text(max(*y_ori)/2, 0.6,f\"n={len(y_ori)}\")\n",
    "plt.title(\"HLA Mels identification results(FDR 1%)\")\n",
    "plt.xlabel(\"original prosit2020\")\n",
    "plt.legend()\n",
    "plt.ylabel(\"re-trained prosit2020\")"
   ]
  },
  {
   "cell_type": "code",
   "execution_count": 33,
   "metadata": {},
   "outputs": [
    {
     "data": {
      "text/plain": [
       "array([   0.99297893, -331.33384882])"
      ]
     },
     "execution_count": 33,
     "metadata": {},
     "output_type": "execute_result"
    }
   ],
   "source": [
    "np.polyfit(y_ori, y_our, deg=1)"
   ]
  },
  {
   "cell_type": "code",
   "execution_count": null,
   "metadata": {},
   "outputs": [],
   "source": []
  }
 ],
 "metadata": {
  "kernelspec": {
   "display_name": "base",
   "language": "python",
   "name": "python3"
  },
  "language_info": {
   "codemirror_mode": {
    "name": "ipython",
    "version": 3
   },
   "file_extension": ".py",
   "mimetype": "text/x-python",
   "name": "python",
   "nbconvert_exporter": "python",
   "pygments_lexer": "ipython3",
   "version": "3.9.5"
  },
  "orig_nbformat": 4,
  "vscode": {
   "interpreter": {
    "hash": "17465660725f2b6bdd0101ccb038f8fe4c98405cd7a343be234717463386f391"
   }
  }
 },
 "nbformat": 4,
 "nbformat_minor": 2
}
