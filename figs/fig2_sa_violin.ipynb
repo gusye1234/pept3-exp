{
   "cells": [
      {
         "cell_type": "code",
         "execution_count": 1,
         "metadata": {},
         "outputs": [],
         "source": [
            "import pandas as pd\n",
            "import seaborn as sns\n",
            "import numpy as np\n",
            "import os\n",
            "import matplotlib.pyplot as plt\n",
            "plt.rcParams['svg.fonttype'] = 'none'"
         ]
      },
      {
         "cell_type": "code",
         "execution_count": 2,
         "metadata": {},
         "outputs": [],
         "source": [
            "def index_psmid_table(table_file, psmid):\n",
            "    table = pd.read_csv(table_file, sep='\\t', usecols=['SpecId', 'spectral_angle'])\n",
            "    return table[table['SpecId'].apply(lambda x: x in psmid)]\n",
            "\n",
            "def shared_psmid(nf_psms, f_psms, threshold=0.01):\n",
            "    nf = pd.read_csv(nf_psms, sep='\\t')\n",
            "    f = pd.read_csv(f_psms, sep='\\t')\n",
            "    nf_psmid = nf[nf['q-value'] <= threshold]['PSMId']\n",
            "    f_psmid = f[f['q-value'] <= threshold]['PSMId']\n",
            "    return set(nf_psmid).intersection(f_psmid)\n",
            "\n",
            "def andromeda_sort(psms, topk=1000):\n",
            "    df = pd.read_csv(psms, sep='\\t')\n",
            "    scores = list(df['andromeda'])\n",
            "    ids = list(df['SpecId'])\n",
            "    return sorted(zip(ids, scores), key=lambda x: x[1])"
         ]
      },
      {
         "cell_type": "code",
         "execution_count": 3,
         "metadata": {},
         "outputs": [],
         "source": [
            "def set_axis_style(ax, labels, fontsize):\n",
            "    ax.xaxis.set_tick_params(direction='out')\n",
            "    ax.xaxis.set_ticks_position('bottom')\n",
            "    ax.set_xticks(np.arange(1, len(labels) + 1),)\n",
            "    ax.set_xticklabels(labels, fontsize=fontsize)\n",
            "    ax.set_xlim(0.25, len(labels) + 0.75)\n",
            "    # ax.set_xlabel('Sample name')\n",
            "\n",
            "def plot_half_violin(data_dict : dict, figsize=(4, 6), fontsize=15):\n",
            "    fig, ax = plt.subplots(figsize=figsize, dpi=100)\n",
            "    labels = list(data_dict)\n",
            "\n",
            "    no_finetuned = [v[0] for v in data_dict.values()] \n",
            "    finetuned = [v[1] for v in data_dict.values()] \n",
            "\n",
            "    mins = [min(np.min(i), np.min(j)) for i, j in zip(no_finetuned, finetuned)]\n",
            "    maxs = [max(np.max(i), np.max(j)) for i, j in zip(no_finetuned, finetuned)]\n",
            "\n",
            "    plot1 = ax.violinplot(no_finetuned, showmeans=False, showextrema=False, showmedians=False)\n",
            "    for b in plot1['bodies']:\n",
            "        # get the center\n",
            "        m = np.mean(b.get_paths()[0].vertices[:, 0])\n",
            "        # modify the paths to not go further right than the center\n",
            "        b.get_paths()[0].vertices[:, 0] = np.clip(b.get_paths()[0].vertices[:, 0], -np.inf, m)\n",
            "        b.set_edgecolor('lightgray')\n",
            "        # b.set_edgewidth(2)\n",
            "    plot2 = ax.violinplot(finetuned, showmeans=False, showextrema=False, showmedians=False)\n",
            "    for b in plot2['bodies']:\n",
            "        # get the center\n",
            "        m = np.mean(b.get_paths()[0].vertices[:, 0])\n",
            "        # modify the paths to not go further left than the center\n",
            "        b.get_paths()[0].vertices[:, 0] = np.clip(b.get_paths()[0].vertices[:, 0], m, np.inf)\n",
            "        # b.set_color('b')\n",
            "        b.set_edgecolor('lightgray')\n",
            "        # b.set_edgewidth(2)\n",
            "    for i in range(len(labels)):\n",
            "        ax.text(i+1-0.2, 0.6, f\"n={len(finetuned[i])}\", fontsize=8, rotation=90, va='center')\n",
            "    # ax.vlines([i+1 for i in range(len(labels))], mins, maxs, color='gray', linestyles='--', lw=1)\n",
            "    \n",
            "    x_axises = np.array([i+1 for i in range(len(labels))])\n",
            "    nf_sa_mean = [np.mean(i) for i in no_finetuned]\n",
            "    f_sa_mean = [np.mean(i) for i in finetuned]\n",
            "\n",
            "    print(nf_sa_mean, f_sa_mean)\n",
            "    ax.hlines(nf_sa_mean, x_axises-0.2, x_axises, color='slateblue', linestyles='-', lw=1)\n",
            "    ax.hlines(f_sa_mean, x_axises, x_axises+0.2, color='orange', linestyles='-', lw=1)\n",
            "    ax.legend([plot1['bodies'][0],plot2['bodies'][0]],['No fine-tuned', 'Fine-tuned'], loc='lower right', frameon=False)\n",
            "    set_axis_style(ax, labels, fontsize)\n",
            "    ax.set_ylabel(\"Spectral Angle\", fontsize=15)\n",
            "    return fig, ax\n",
            "\n",
            "    "
         ]
      },
      {
         "cell_type": "code",
         "execution_count": 7,
         "metadata": {},
         "outputs": [],
         "source": [
            "# whichs = ['trypsin', \"lysc\", 'gluc', \"chymo\"]\n",
            "# data_dict = {}\n",
            "# frag_model = \"prosit_l1\"\n",
            "# for which, show in zip(whichs, [\"Trypsin\", \"Lys-C\", \"Glu-C\", \"Chymo\"]):\n",
            "#     result_dir = f\"/data/prosit/figs/fig235/{which}/percolator_up/try/{frag_model}\"\n",
            "#     no_finetuned_dir = os.path.join(result_dir, \"no_finetuned_twofold\")\n",
            "#     finetuned_dir = os.path.join(result_dir, \"finetuned_twofold\")\n",
            "#     nf_psms = os.path.join(no_finetuned_dir, \"sa_target.psms\")\n",
            "#     nf_table = os.path.join(no_finetuned_dir, \"sa.tab\")\n",
            "#     f_psms = os.path.join(finetuned_dir, \"sa_target.psms\")\n",
            "#     f_table = os.path.join(finetuned_dir, \"sa.tab\")\n",
            "#     share_psmids = shared_psmid(nf_psms, f_psms)\n",
            "\n",
            "#     nf_tab = index_psmid_table(nf_table, share_psmids)\n",
            "#     f_tab = index_psmid_table(f_table, share_psmids)\n",
            "#     nf_sa = nf_tab['spectral_angle']\n",
            "#     f_sa = f_tab['spectral_angle']\n",
            "#     data_dict[show] = (nf_sa, f_sa)\n",
            "    \n",
            "# fig, ax = plot_half_violin(data_dict)\n",
            "# fig.savefig(f\"fig/fig2-violin-fdr-sa-{frag_model}.svg\", dpi=300)"
         ]
      },
      {
         "cell_type": "code",
         "execution_count": 4,
         "metadata": {},
         "outputs": [
            {
               "name": "stdout",
               "output_type": "stream",
               "text": [
                  "Mel-15_HLA-I\n",
                  "1000 1000\n"
               ]
            }
         ],
         "source": [
            "import h5py\n",
            "\n",
            "def index_psmid_table(table_file, psmid):\n",
            "    table = pd.read_csv(table_file, sep='\\t', usecols=['SpecId', 'spectral_angle'])\n",
            "    return table[table['SpecId'].apply(lambda x: x in psmid)]\n",
            "\n",
            "def shared_psmid(nf_psms, f_psms, threshold=0.01):\n",
            "    nf = pd.read_csv(nf_psms, sep='\\t')\n",
            "    f = pd.read_csv(f_psms, sep='\\t')\n",
            "    nf_psmid = [\"-\".join(i.split('-')[:-1]) for i in nf[nf['q-value'] <= threshold]['PSMId']]\n",
            "    f_psmid = f[f['q-value'] <= threshold]['PSMId']\n",
            "    return set(nf_psmid).intersection(f_psmid)\n",
            "\n",
            "def andromeda_sort(psms, topk=1000):\n",
            "    df = pd.read_csv(psms, sep='\\t')\n",
            "    scores = list(df['andromeda'])\n",
            "    ids = list(df['SpecId'])\n",
            "    # ids = [\"-\".join(i.split('-')[:-1]) for i in ids]\n",
            "    return sorted(zip(ids, scores), key=lambda x: x[1])\n",
            "\n",
            "def track_raw_spectrum(table, psmids):\n",
            "    intens = []\n",
            "    psmid2sa = {\n",
            "        \"-\".join([str(k), str(v)]): j \n",
            "        for k, v, j in zip(table['raw_file'], table['scan_number'], table['spectral_angle'])\n",
            "    }\n",
            "    for psmid in psmids:\n",
            "        packs = psmid.split(\"-\")\n",
            "        charge = int(packs[-1])\n",
            "        pep = packs[-2]\n",
            "        sn = int(packs[-3])\n",
            "        rf = '-'.join(packs[:-3])\n",
            "        \n",
            "        # re = table[(table['raw_file'] == rf) & (table['scan_number'] == sn)]\n",
            "        sa = psmid2sa['-'.join([str(rf), str(sn)])]\n",
            "        intens.append(sa)\n",
            "    return intens\n",
            "\n",
            "data_dict = {}\n",
            "\n",
            "frag_model = \"prosit_hcd\"\n",
            "set_threshold = 0.1\n",
            "hla_mel = pd.read_csv(\"./data/HLA_Mel.csv\")\n",
            "hla_mel = hla_mel[hla_mel['Experiment'].apply(\n",
            "    lambda x: x.endswith(\"HLA-I\"))]\n",
            "Mels = hla_mel['Experiment'].unique()\n",
            "\n",
            "Mels = ['Mel-15_HLA-I']\n",
            "for which in Mels:\n",
            "    print(which)\n",
            "    f_tab = f\"/data/yejb/prosit/figs/boosting/figs/Figure_5_HLA_1/{frag_model}/3fold_Mels_{set_threshold}/{which}\"\n",
            "    nf_tab = f\"/data/yejb/prosit/figs/boosting/figs/Figure_5_HLA_1/forPride/rescoring_for_paper_2/Mels/{which}/percolator\"\n",
            "    f_psms = os.path.join(f_tab, \"prosit_target.psms\")\n",
            "    f_table = os.path.join(f_tab, \"prosit.tab\")\n",
            "    hdf5_file = os.path.join(nf_tab, \"features.csv\")\n",
            "    nf_psms = os.path.join(nf_tab, \"prosit_target.psms\")\n",
            "    nf_table = os.path.join(nf_tab, \"prosit.tab\")\n",
            "    \n",
            "    hdf5_data = pd.read_csv(hdf5_file, usecols=[\"raw_file\", \"scan_number\", \"spectral_angle\"])\n",
            "    # share_psmids = shared_psmid(nf_psms, f_psms)\n",
            "    score_p = andromeda_sort(f_table)\n",
            "    share_psmids = [p[0] for p in score_p[-1000:]]\n",
            "\n",
            "    f_tab = index_psmid_table(f_table, share_psmids)\n",
            "    nf_sa = track_raw_spectrum(hdf5_data, share_psmids)\n",
            "    # nf_tab = index_psmid_table(nf_table, share_psmids)\n",
            "    # nf_sa = nf_tab['spectral_angle']\n",
            "    f_sa = f_tab['spectral_angle']\n",
            "    print(len(nf_sa), len(f_sa))\n",
            "    data_dict[which.split('_')[0]] = (nf_sa, f_sa)\n"
         ]
      },
      {
         "cell_type": "code",
         "execution_count": 5,
         "metadata": {},
         "outputs": [
            {
               "name": "stdout",
               "output_type": "stream",
               "text": [
                  "[0.8859257295476186] [0.8910857563691843]\n"
               ]
            },
            {
               "data": {
                  "image/png": "[encoded data removed]",
                  "text/plain": [
                     "<Figure size 400x400 with 1 Axes>"
                  ]
               },
               "metadata": {
                  "needs_background": "light"
               },
               "output_type": "display_data"
            }
         ],
         "source": [
            "fig, ax = plot_half_violin(data_dict, figsize=(4, 4), fontsize=15)\n",
            "# fig.savefig(f\"figs/fig2-violin-andromeda-sa-{frag_model}-mel15.svg\", dpi=300)"
         ]
      },
      {
         "cell_type": "code",
         "execution_count": null,
         "metadata": {},
         "outputs": [],
         "source": [
            "import h5py\n",
            "\n",
            "def index_psmid_table(table_file, psmid):\n",
            "    table = pd.read_csv(table_file, sep='\\t', usecols=['SpecId', 'spectral_angle'])\n",
            "    return table[table['SpecId'].apply(lambda x: x in psmid)]\n",
            "\n",
            "def shared_psmid(nf_psms, f_psms, threshold=0.01):\n",
            "    nf = pd.read_csv(nf_psms, sep='\\t')\n",
            "    f = pd.read_csv(f_psms, sep='\\t')\n",
            "    nf_psmid = [\"-\".join(i.split('-')[:-1]) for i in nf[nf['q-value'] <= threshold]['PSMId']]\n",
            "    f_psmid = f[f['q-value'] <= threshold]['PSMId']\n",
            "    return set(nf_psmid).intersection(f_psmid)\n",
            "\n",
            "def track_raw_spectrum(table, psmids):\n",
            "    intens = []\n",
            "    psmid2sa = {\n",
            "        \"-\".join([str(k), str(v)]): j \n",
            "        for k, v, j in zip(table['raw_file'], table['scan_number'], table['spectral_angle'])\n",
            "    }\n",
            "    for psmid in psmids:\n",
            "        packs = psmid.split(\"-\")\n",
            "        charge = int(packs[-1])\n",
            "        pep = packs[-2]\n",
            "        sn = int(packs[-3])\n",
            "        rf = '-'.join(packs[:-3])\n",
            "        \n",
            "        # re = table[(table['raw_file'] == rf) & (table['scan_number'] == sn)]\n",
            "        sa = psmid2sa['-'.join([str(rf), str(sn)])]\n",
            "        intens.append(sa)\n",
            "    return intens\n",
            "\n",
            "data_dict = {}\n",
            "\n",
            "frag_model = \"prosit_l1\"\n",
            "set_threshold = 0.1\n",
            "hla_mel = pd.read_csv(\"./data/HLA_Mel.csv\")\n",
            "hla_mel = hla_mel[hla_mel['Experiment'].apply(\n",
            "    lambda x: x.endswith(\"HLA-I\"))]\n",
            "Mels = hla_mel['Experiment'].unique()\n",
            "\n",
            "for which in Mels:\n",
            "    print(which)\n",
            "    f_tab = f\"/data/yejb/prosit/figs/boosting/figs/Figure_5_HLA_1/{frag_model}/percolator_hdf5_Mels_{set_threshold}/{which}\"\n",
            "    nf_tab = f\"/data/yejb/prosit/figs/boosting/figs/Figure_5_HLA_1/forPride/rescoring_for_paper_2/Mels/{which}/percolator\"\n",
            "    f_psms = os.path.join(f_tab, \"prosit_target.psms\")\n",
            "    f_table = os.path.join(f_tab, \"prosit.tab\")\n",
            "    hdf5_file = os.path.join(nf_tab, \"features.csv\")\n",
            "    nf_psms = os.path.join(nf_tab, \"prosit_target.psms\")\n",
            "    nf_table = os.path.join(nf_tab, \"prosit.tab\")\n",
            "    \n",
            "    hdf5_data = pd.read_csv(hdf5_file, usecols=[\"raw_file\", \"scan_number\", \"spectral_angle\"])\n",
            "    share_psmids = shared_psmid(nf_psms, f_psms)\n",
            "\n",
            "    f_tab = index_psmid_table(f_table, share_psmids)\n",
            "    nf_sa = track_raw_spectrum(hdf5_data, share_psmids)\n",
            "    # nf_tab = index_psmid_table(nf_table, share_psmids)\n",
            "    # nf_sa = nf_tab['spectral_angle']\n",
            "    f_sa = f_tab['spectral_angle']\n",
            "    print(len(nf_sa), len(f_sa))\n",
            "    data_dict[which.split('_')[0]] = (nf_sa, f_sa)"
         ]
      },
      {
         "cell_type": "code",
         "execution_count": 7,
         "metadata": {},
         "outputs": [
            {
               "data": {
                  "image/png": "[encoded data removed]",
                  "text/plain": [
                     "<Figure size 400x600 with 1 Axes>"
                  ]
               },
               "metadata": {
                  "needs_background": "light"
               },
               "output_type": "display_data"
            }
         ],
         "source": [
            "whichs = ['trypsin', \"lysc\", 'gluc', \"chymo\"]\n",
            "data_dict = {}\n",
            "frag_model = \"prosit_l1\"\n",
            "for which, show in zip(whichs, [\"Trypsin\", \"Lys-C\", \"Glu-C\", \"Chymo\"]):\n",
            "    result_dir = f\"/data/prosit/figs/fig235/{which}/percolator_up/try/{frag_model}\"\n",
            "    no_finetuned_dir = os.path.join(result_dir, \"no_finetuned_twofold\")\n",
            "    finetuned_dir = os.path.join(result_dir, \"finetuned_twofold\")\n",
            "    \n",
            "    andro_tab = os.path.join(no_finetuned_dir, \"andromeda.tab\")\n",
            "    nf_psms = os.path.join(no_finetuned_dir, \"sa_target.psms\")\n",
            "    nf_table = os.path.join(no_finetuned_dir, \"sa.tab\")\n",
            "    f_psms = os.path.join(finetuned_dir, \"sa_target.psms\")\n",
            "    f_table = os.path.join(finetuned_dir, \"sa.tab\")\n",
            "    \n",
            "    # share_psmids = shared_psmid(nf_psms, f_psms)\n",
            "    socre_p = andromeda_sort(andro_tab)\n",
            "    share_psmids = [p[0] for p in socre_p[-1000:]]\n",
            "    # print(share_psmids)\n",
            "    # break\n",
            "\n",
            "    nf_tab = index_psmid_table(nf_table, share_psmids)\n",
            "    f_tab = index_psmid_table(f_table, share_psmids)\n",
            "    nf_sa = nf_tab['spectral_angle']\n",
            "    f_sa = f_tab['spectral_angle']\n",
            "    data_dict[show] = (nf_sa, f_sa)\n",
            "    \n",
            "fig, ax = plot_half_violin(data_dict)\n",
            "fig.savefig(f\"fig/fig2-violin-andromeda-sa-{frag_model}.svg\", dpi=300)"
         ]
      },
      {
         "cell_type": "code",
         "execution_count": null,
         "metadata": {},
         "outputs": [],
         "source": []
      }
   ],
   "metadata": {
      "kernelspec": {
         "display_name": "Python 3.9.5 ('base')",
         "language": "python",
         "name": "python3"
      },
      "language_info": {
         "codemirror_mode": {
            "name": "ipython",
            "version": 3
         },
         "file_extension": ".py",
         "mimetype": "text/x-python",
         "name": "python",
         "nbconvert_exporter": "python",
         "pygments_lexer": "ipython3",
         "version": "3.9.5"
      },
      "orig_nbformat": 4,
      "vscode": {
         "interpreter": {
            "hash": "17465660725f2b6bdd0101ccb038f8fe4c98405cd7a343be234717463386f391"
         }
      }
   },
   "nbformat": 4,
   "nbformat_minor": 2
}
