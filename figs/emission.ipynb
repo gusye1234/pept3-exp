{
 "cells": [
  {
   "cell_type": "code",
   "execution_count": 11,
   "metadata": {},
   "outputs": [],
   "source": [
    "import pandas as pd\n",
    "import numpy as np\n",
    "import os\n",
    "from collections import defaultdict\n",
    "import matplotlib.pyplot as plt"
   ]
  },
  {
   "cell_type": "code",
   "execution_count": 12,
   "metadata": {},
   "outputs": [],
   "source": [
    "# table_data = pd.read_csv(\"/data1/yejb/prosit/figure3/supply_origin/fine-tuned.csv\")\n",
    "table_data = pd.read_csv(\n",
    "    \"/data1/yejb/prosit/figure3/supply_origin/aligned-fine-tuned-IAA-noIAA-0.01.csv\")\n"
   ]
  },
  {
   "cell_type": "code",
   "execution_count": 13,
   "metadata": {},
   "outputs": [],
   "source": [
    "# table_data[table_data['SM_v2'].apply(lambda x: bool(x))]['SM_v2']\n",
    "# table_data[table_data['Sequence'].apply(lambda x: len(x) == 7)]\n"
   ]
  },
  {
   "cell_type": "code",
   "execution_count": 14,
   "metadata": {},
   "outputs": [],
   "source": [
    "# def read_allele_len_me(data, allele, length):\n",
    "#     alleles = data[data['Allele'] == allele]\n",
    "#     alleles = alleles[alleles['Sequence'].apply(lambda x: len(x) == length)]\n",
    "#     baseline = alleles[alleles['SM_v2'].apply(\n",
    "#         lambda x: bool(x))]['Sequence'].to_list()\n",
    "#     prosit = alleles[alleles['Prosit'].apply(\n",
    "#         lambda x: bool(x))]['Sequence'].to_list()\n",
    "#     finetuned = alleles[alleles['Prosit(original)'].apply(\n",
    "#         lambda x: bool(x))]['Sequence'].to_list()\n",
    "#     return baseline, prosit, finetuned\n",
    "\n",
    "\n",
    "# all_alleles = table_data['Allele'].unique()\n",
    "# all_length = [8, 9, 10, 11]\n",
    "# for allele in all_alleles:\n",
    "#     for length in all_length:\n",
    "#         _, prosit, finetuned = read_allele_len_me(\n",
    "#             table_data, allele, length)\n",
    "#         prosit = set(prosit)\n",
    "#         finetuned = set(finetuned)\n",
    "#         print(len(prosit), len(finetuned), len(prosit.intersection(finetuned)))\n"
   ]
  },
  {
   "cell_type": "code",
   "execution_count": 15,
   "metadata": {},
   "outputs": [],
   "source": [
    "\n",
    "def read_allele_len(data, allele, length):\n",
    "    alleles = data[data['Allele'] == allele]\n",
    "    alleles = alleles[alleles['Sequence'].apply(lambda x: len(x) == length)]\n",
    "    baseline = alleles[alleles['SM_v2'].apply(\n",
    "        lambda x: bool(x))]['Sequence'].to_list()\n",
    "    prosit = alleles[alleles['Prosit(original)'].apply(\n",
    "        lambda x: bool(x))]['Sequence'].to_list()\n",
    "    finetuned = alleles[alleles['Fine-tuned Prosit'].apply(\n",
    "        lambda x: bool(x))]['Sequence'].to_list()\n",
    "    return baseline, prosit, finetuned\n",
    "\n",
    "def LSG(p1, p2):\n",
    "    p1 = set(p1)\n",
    "    p2 = set(p2)\n",
    "    return p1-p2, p1.intersection(p2), p2-p1"
   ]
  },
  {
   "cell_type": "code",
   "execution_count": 16,
   "metadata": {},
   "outputs": [],
   "source": [
    "def all_unique_char(data):\n",
    "    all_peptides = data[\"Sequence\"]\n",
    "    all_peptides = \"\".join(all_peptides)\n",
    "    return set(all_peptides)\n",
    "\n",
    "def extract_pos(peps, pos):\n",
    "    return [ [p[i] for i in pos]for p in peps]\n",
    "\n",
    "class Labeler:\n",
    "    def __init__(self, unique_char):\n",
    "        self._reverse = list(unique_char)\n",
    "        self._dict = {\n",
    "            c : i\n",
    "            for i, c in enumerate(self._reverse)\n",
    "        }\n",
    "    def encode(self, peptide):\n",
    "        return [self._dict[c] for c in peptide]\n",
    "\n",
    "    def decode(self, pep_index):\n",
    "        return \"\".join([self._reverse[i] for i in pep_index])\n",
    "    \n",
    "    def encode_batch(self, peptides):\n",
    "        return [self.encode(p) for p in peptides]\n",
    "    \n",
    "    def decode_batch(self, pep_indexs):\n",
    "        return [self.decode(p) for p in pep_indexs]\n",
    "    \n",
    "    def position_matrix(self, pep_indexs, length):\n",
    "        mat = np.zeros((length, len(self._reverse)))    \n",
    "        for p in pep_indexs:\n",
    "            for i in range(length):\n",
    "                mat[i, p[i]] += 1\n",
    "        return mat\n",
    "    \n",
    "    def emission_mat(self, pep_indexs, length):\n",
    "        mat = self.position_matrix(pep_indexs, length)\n",
    "        return mat/(mat.sum(1).reshape(-1, 1) + 1e-9)\n",
    "    \n",
    "    def get_top_pos(self, pep_indexs, length, topk=5):\n",
    "        mat = self.position_matrix(pep_indexs, length)\n",
    "        pos_rank = np.max(mat, axis=1)\n",
    "        return np.argsort(pos_rank)[::-1][:topk]"
   ]
  },
  {
   "cell_type": "code",
   "execution_count": 17,
   "metadata": {},
   "outputs": [],
   "source": [
    "all_alleles = table_data['Allele'].unique()\n",
    "all_length = [8, 9, 10, 11]\n",
    "\n",
    "topk_pos = 5\n",
    "labeller = Labeler(all_unique_char(table_data))\n"
   ]
  },
  {
   "cell_type": "code",
   "execution_count": 18,
   "metadata": {},
   "outputs": [
    {
     "name": "stderr",
     "output_type": "stream",
     "text": [
      "100%|██████████| 89/89 [00:15<00:00,  5.72it/s]\n"
     ]
    }
   ],
   "source": [
    "def emission_prob(em_mat, pep_index):\n",
    "    assert len(em_mat) == len(pep_index)\n",
    "    prob = 0\n",
    "    for i in range(len(em_mat)):\n",
    "        prob += np.log10(1e-7 + em_mat[i, pep_index[i]])\n",
    "    return prob\n",
    "\n",
    "from tqdm import tqdm\n",
    "\n",
    "prosit_dict = defaultdict(list)\n",
    "finetuned_dict = defaultdict(list)\n",
    "\n",
    "all_length = [8, 9, 10, 11]\n",
    "for allele in tqdm(all_alleles):\n",
    "    ems_prosit = defaultdict(list)\n",
    "    ems_finetuned = defaultdict(list)\n",
    "    for length in all_length:\n",
    "        baseline, prosit, finetuned = read_allele_len(\n",
    "            table_data, allele, length)\n",
    "        if len(baseline) == 0:\n",
    "            continue\n",
    "        # prosit\n",
    "        baseline_i = labeller.encode_batch(set(baseline))\n",
    "        needed_pos = labeller.get_top_pos(baseline_i, length, topk=topk_pos)\n",
    "\n",
    "        inter = extract_pos(baseline_i, needed_pos)\n",
    "        em_mat = labeller.emission_mat(inter, topk_pos)\n",
    "        loss, shared, gain = LSG(baseline, prosit)\n",
    "        for name, pep in zip(['Loss', 'Shared', \"Gain\"], [loss, shared, gain]):\n",
    "            pep_i = labeller.encode_batch(pep)\n",
    "            if len(pep_i) == 0:\n",
    "                continue\n",
    "            pep_i = np.array(extract_pos(pep_i, needed_pos))\n",
    "            for p in pep_i:\n",
    "                s = emission_prob(em_mat, p)\n",
    "                ems_prosit[name].append(s)\n",
    "        # finetuned\n",
    "        baseline_i = labeller.encode_batch(set(baseline))\n",
    "        needed_pos = labeller.get_top_pos(baseline_i, length, topk=topk_pos)\n",
    "        inter = extract_pos(baseline_i, needed_pos)\n",
    "        em_mat = labeller.emission_mat(inter, topk_pos)\n",
    "        \n",
    "        loss, shared, gain = LSG(baseline, finetuned)\n",
    "        for name, pep in zip(['Loss', 'Shared', \"Gain\"], [loss, shared, gain]):\n",
    "            pep_i = labeller.encode_batch(pep)\n",
    "            if len(pep_i) == 0:\n",
    "                continue\n",
    "            pep_i = np.array(extract_pos(pep_i, needed_pos))\n",
    "            for p in pep_i:\n",
    "                s = emission_prob(em_mat, p)\n",
    "                ems_finetuned[name].append(s)\n",
    "    if len(ems_prosit) == 0 or len(ems_finetuned) == 0:\n",
    "        print(f\"Wrong shot at {allele}\")\n",
    "    for name in ['Loss', 'Shared', \"Gain\"]:\n",
    "        prosit_dict[name].append(np.mean(ems_prosit[name]))\n",
    "        finetuned_dict[name].append(np.mean(ems_finetuned[name]))\n"
   ]
  },
  {
   "cell_type": "code",
   "execution_count": 19,
   "metadata": {},
   "outputs": [
    {
     "name": "stdout",
     "output_type": "stream",
     "text": [
      "Loss (89) Medium: -4.861 Std: 0.437\n",
      "Shared (89) Medium: -4.284 Std: 0.312\n",
      "Gain (89) Medium: -4.790 Std: 0.335\n"
     ]
    }
   ],
   "source": [
    "for k, v in prosit_dict.items():\n",
    "    print(k, f\"({len(v)}) Medium: {np.median(v):.3f}\", f\"Std: {np.std(v):.3f}\")"
   ]
  },
  {
   "cell_type": "code",
   "execution_count": 20,
   "metadata": {},
   "outputs": [
    {
     "name": "stdout",
     "output_type": "stream",
     "text": [
      "Loss (89) Mean: -4.645 Std: 0.389\n",
      "Shared (89) Mean: -4.200 Std: 0.326\n",
      "Gain (89) Mean: -5.222 Std: 0.650\n"
     ]
    }
   ],
   "source": [
    "for k, v in finetuned_dict.items():\n",
    "    print(k, f\"({len(v)}) Mean: {np.median(v):.3f}\", f\"Std: {np.std(v):.3f}\")\n"
   ]
  },
  {
   "cell_type": "code",
   "execution_count": 25,
   "metadata": {},
   "outputs": [
    {
     "data": {
      "text/plain": [
       "(-6.1, -3.0)"
      ]
     },
     "execution_count": 25,
     "metadata": {},
     "output_type": "execute_result"
    },
    {
     "data": {
      "image/png": "[encoded data removed]",
      "text/plain": [
       "<Figure size 1200x800 with 1 Axes>"
      ]
     },
     "metadata": {
      "needs_background": "light"
     },
     "output_type": "display_data"
    }
   ],
   "source": [
    "import seaborn as sns\n",
    "plt.rcParams['figure.dpi'] = 200\n",
    "plot_dict = {}\n",
    "plot_dict[\"Average log emission probability per allele\"] = prosit_dict['Shared'] + prosit_dict['Gain'] + prosit_dict['Loss']\n",
    "plot_dict[\"SM v2 verus. Rescored MaxQuant\"] = ['Shared']*len(prosit_dict['Shared']) + ['Gain']*len(prosit_dict['Gain']) + ['Loss']*len(prosit_dict['Loss'])\n",
    "df = pd.DataFrame(plot_dict)\n",
    "ax = sns.boxplot(data=df, x='SM v2 verus. Rescored MaxQuant',\n",
    "            y='Average log emission probability per allele', linewidth=2.5)\n",
    "ax.set_ylim(-6.1, -3)\n"
   ]
  },
  {
   "cell_type": "code",
   "execution_count": 22,
   "metadata": {},
   "outputs": [],
   "source": [
    "def plot_error(method_dict):\n",
    "    c_loss = 'orange'\n",
    "    c_shared = 'darkslateblue'\n",
    "    c_gain = 'darkgreen'\n",
    "    fig, ax = plt.subplots(figsize=(9, 6), dpi=100)\n",
    "    \n",
    "    x = [1, 2, 3]\n",
    "    em_mean = [np.mean(method_dict[p]) for p in ['Shared', \"Gain\", \"Loss\"]]\n",
    "    em_std = [np.std(method_dict[p]) for p in ['Shared', \"Gain\", \"Loss\"]]\n",
    "    ax.scatter(x, em_mean)\n",
    "    ax.errorbar(x, em_mean, yerr=em_std, fmt='o')\n",
    "    \n",
    "    ax.spines['top'].set_visible(False)\n",
    "    ax.spines['right'].set_visible(False)\n",
    "    ax.spines['bottom'].set_visible(False)\n",
    "    ax.spines['left'].set_visible(False)\n",
    "    ax.axes.get_xaxis().set_visible(False)\n",
    "    \n",
    "    plt.show()"
   ]
  },
  {
   "cell_type": "code",
   "execution_count": 30,
   "metadata": {},
   "outputs": [
    {
     "data": {
      "image/png": "[encoded data removed]",
      "text/plain": [
       "<Figure size 900x600 with 1 Axes>"
      ]
     },
     "metadata": {
      "needs_background": "light"
     },
     "output_type": "display_data"
    }
   ],
   "source": [
    "plot_error(prosit_dict)"
   ]
  },
  {
   "cell_type": "code",
   "execution_count": null,
   "metadata": {},
   "outputs": [],
   "source": []
  }
 ],
 "metadata": {
  "interpreter": {
   "hash": "17465660725f2b6bdd0101ccb038f8fe4c98405cd7a343be234717463386f391"
  },
  "kernelspec": {
   "display_name": "Python 3.9.5 ('base')",
   "language": "python",
   "name": "python3"
  },
  "language_info": {
   "codemirror_mode": {
    "name": "ipython",
    "version": 3
   },
   "file_extension": ".py",
   "mimetype": "text/x-python",
   "name": "python",
   "nbconvert_exporter": "python",
   "pygments_lexer": "ipython3",
   "version": "3.9.5"
  },
  "orig_nbformat": 4
 },
 "nbformat": 4,
 "nbformat_minor": 2
}
