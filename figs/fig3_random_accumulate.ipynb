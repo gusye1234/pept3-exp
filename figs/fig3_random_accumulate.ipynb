{
 "cells": [
  {
   "cell_type": "code",
   "execution_count": null,
   "metadata": {},
   "outputs": [],
   "source": [
    "import pandas as pd\n",
    "import numpy as np\n",
    "import os\n",
    "import torch\n",
    "import matplotlib.pyplot as plt"
   ]
  },
  {
   "cell_type": "code",
   "execution_count": null,
   "metadata": {},
   "outputs": [],
   "source": [
    "def plot_cum_fdr(targets, decoys, names=['Target', \"Decoy\"], title=''):\n",
    "    import matplotlib as mpl\n",
    "\n",
    "    plt.style.use(['ieee', \"high-vis\", 'no-latex'])\n",
    "    plt.rcParams[\"font.family\"] = \"DejaVu Sans\"\n",
    "\n",
    "\n",
    "    fig, ax = plt.subplots()    \n",
    "    t_value = np.abs(targets)\n",
    "    d_value = np.abs(decoys)\n",
    "    \n",
    "    t_v, t_base = np.histogram(t_value, bins=1000)\n",
    "    d_v, d_base = np.histogram(d_value, bins=1000)\n",
    "\n",
    "    t_cum_sum = np.cumsum(t_v[::-1])[::-1]/len(t_value)\n",
    "    d_cum_sum = np.cumsum(d_v[::-1])[::-1]/len(d_value)\n",
    "\n",
    "    ax.invert_xaxis()\n",
    "    print(t_base.shape)\n",
    "    print(d_base.shape)\n",
    "    plt.plot(t_base[:-1], t_cum_sum, label=names[0])\n",
    "    plt.plot(d_base[:-1], d_cum_sum, label=names[1])\n",
    "    plt.legend(loc=\"upper left\")\n",
    "    plt.xlabel(\"Spectral Angle\", fontsize=10)\n",
    "    plt.ylabel(\"Cumulative Distribution\", fontsize=10)\n",
    "    plt.title(title, fontsize=10)\n",
    "\n",
    "    mpl.rcParams.update(mpl.rcParamsDefault)\n"
   ]
  },
  {
   "cell_type": "code",
   "execution_count": null,
   "metadata": {},
   "outputs": [],
   "source": [
    "import sys\n",
    "sys.path.append(\"..\")\n",
    "from tools import *\n",
    "import tools\n",
    "from fdr_test import fixed_features_random\n",
    "which = \"chymo\"\n",
    "msms_file = f\"/data/prosit/figs/fig235/{which}/maxquant/combined/txt/msms.txt\"\n",
    "raw_dir = f\"/data/prosit/figs/fig235/{which}/raw\"\n",
    "fixed_features_dir = f\"/data/prosit/figs/fig235/{which}/percolator_up/try/prosit_l1\"\n",
    "\n",
    "name, msms_data = tools.read_msms(msms_file)\n",
    "msms_data = tools.filter_msms(name, msms_data)\n",
    "\n",
    "\n",
    "msms_data = msms_data[:100000]\n",
    "msms_data.sort(key=lambda x: int(x[name.index(\"id\")]))\n",
    "m_r = loc_msms_in_raw(msms_data, raw_dir)\n",
    "\n",
    "matched_ions_pre = generate_matched_ions(m_r)\n",
    "m_i = [bio_helper.match_all(i, 'yb') for i in tqdm(matched_ions_pre)]\n",
    "frag_msms = [bio_helper.reverse_annotation(*i[:4]) for i in tqdm(m_i)]\n"
   ]
  },
  {
   "cell_type": "code",
   "execution_count": null,
   "metadata": {},
   "outputs": [],
   "source": [
    "from ms import model, finetune\n",
    "import ms\n",
    "\n",
    "\n",
    "frag_model = \"prosit_l1\"\n",
    "model_list = {\n",
    "    \"prosit_l1\": model.PrositFrag,\n",
    "    \"pdeep2\": model.pDeep2_nomod\n",
    "}\n",
    "\n",
    "checkpoints_list = {\n",
    "    \"prosit_l1\": \"/home/gus/Desktop/ms_pred/checkpoints/best/best_frag_l1_PrositFrag-1024.pth\",\n",
    "    \"pdeep2\": \"/home/gus/Desktop/ms_pred/checkpoints/best/best_frag_l1_pDeep2-1024.pth\"\n",
    "}\n",
    "run_model = model_list[frag_model]()\n",
    "run_model.load_state_dict(torch.load(\n",
    "    checkpoints_list[frag_model], map_location=\"cpu\"))\n",
    "prosit = run_model.eval()\n",
    "tabels_file, random_matches = fixed_features_random(msms_file, raw_dir, fixed_features_dir)\n",
    "\n",
    "print(frag_model)\n",
    "finetuned_prosit, _ = finetune.semisupervised_finetune(\n",
    "    prosit, tabels_file, pearson=(frag_model == 'pdeep2'), enable_test=True)\n"
   ]
  },
  {
   "cell_type": "code",
   "execution_count": null,
   "metadata": {},
   "outputs": [],
   "source": [
    "from ms.dataset import SemiDataset\n",
    "\n",
    "from torch.utils.data import DataLoader\n",
    "\n",
    "train_data = SemiDataset(tabels_file)\n",
    "infer_loader = DataLoader(\n",
    "        train_data.train_all_data(), batch_size=1024, shuffle=False)\n",
    "test_infer_loader = DataLoader(\n",
    "            train_data.test_all_data(), batch_size=1024, shuffle=False)"
   ]
  },
  {
   "cell_type": "code",
   "execution_count": null,
   "metadata": {},
   "outputs": [],
   "source": [
    "def get_test_score(dataset, loader, frag_model, model):\n",
    "    device = torch.device(\"cuda:0\")\n",
    "    model = model.to(device)\n",
    "    if_pearson = (frag_model == \"pdeep2\")\n",
    "    with torch.no_grad():\n",
    "        scores = []\n",
    "        for i, data in enumerate(loader):\n",
    "            data = {k: v.to(device) for k, v in data.items()}\n",
    "            data[\"peptide_mask\"] = helper.create_mask(\n",
    "                data['sequence_integer'])\n",
    "            pred = model(data)\n",
    "            if not if_pearson:\n",
    "                sas = helper.spectral_angle(\n",
    "                    data['intensities_raw'], pred)\n",
    "            else:\n",
    "                sas = helper.pearson_coff(\n",
    "                    data['intensities_raw'], pred)\n",
    "            scores.append(sas.detach().cpu().numpy())\n",
    "        scores = np.concatenate(scores, axis=0)\n",
    "        # dataset.assign_test_score(scores)\n",
    "        # test_q_values = train_data.Q_values_test()\n",
    "        return scores\n",
    "\n",
    "def get_train_score(dataset, loader, frag_model, model):\n",
    "    device = torch.device(\"cuda:0\")\n",
    "    if_pearson = (frag_model == \"pdeep2\")\n",
    "    model = model.to(device)\n",
    "    with torch.no_grad():\n",
    "        scores = []\n",
    "        for i, data in enumerate(loader):\n",
    "            data[\"peptide_mask\"] = helper.create_mask(\n",
    "                data['sequence_integer'])\n",
    "            data = {k: v.to(device) for k, v in data.items()}\n",
    "            pred = model(data)\n",
    "            if not if_pearson:\n",
    "                sas = helper.spectral_angle(\n",
    "                    data['intensities_raw'], pred)\n",
    "            else:\n",
    "                sas = helper.pearson_coff(\n",
    "                    data['intensities_raw'], pred)\n",
    "            scores.append(sas.detach().cpu().numpy())\n",
    "        scores = np.concatenate(scores, axis=0)\n",
    "        dataset.assign_train_score(scores)\n",
    "        test_q_values = train_data.Q_values()\n",
    "        return scores"
   ]
  },
  {
   "cell_type": "code",
   "execution_count": null,
   "metadata": {},
   "outputs": [],
   "source": [
    "no_f_score_test = get_test_score(train_data, test_infer_loader, frag_model, prosit)\n",
    "no_f_score_train = get_train_score(train_data, infer_loader, frag_model, prosit)"
   ]
  },
  {
   "cell_type": "code",
   "execution_count": null,
   "metadata": {},
   "outputs": [],
   "source": [
    "f_score_test = get_test_score(\n",
    "    train_data, test_infer_loader, frag_model, finetuned_prosit)\n",
    "f_score_train = get_train_score(\n",
    "    train_data, infer_loader, frag_model, finetuned_prosit)"
   ]
  },
  {
   "cell_type": "code",
   "execution_count": null,
   "metadata": {},
   "outputs": [],
   "source": [
    "train_label = train_data._d['Label']\n",
    "test_label = train_data._test_d['Label']"
   ]
  },
  {
   "cell_type": "code",
   "execution_count": null,
   "metadata": {},
   "outputs": [],
   "source": [
    "plot_cum_fdr(no_f_score_test[test_label == 1], no_f_score_test[test_label == -1], title=\"No Fine-tuned\")"
   ]
  },
  {
   "cell_type": "code",
   "execution_count": null,
   "metadata": {},
   "outputs": [],
   "source": [
    "plot_cum_fdr(f_score_test[test_label == 1], f_score_test[test_label == -1], title='Fine-tuned')"
   ]
  },
  {
   "cell_type": "code",
   "execution_count": null,
   "metadata": {},
   "outputs": [],
   "source": [
    "frag_model = 'prosit_l1'\n",
    "\n",
    "whichs = ['trypsin', 'gluc', \"chymo\", \"lysc\"]\n",
    "data2plot = {}\n",
    "for which in whichs:\n",
    "    result_dir = f\"/data/prosit/figs/fig235/{which}/percolator_up/try/{frag_model}\"\n",
    "\n",
    "    no_finetuned_dir = os.path.join(result_dir, \"no_finetuned\")\n",
    "\n",
    "    sa = pd.read_csv(os.path.join(\n",
    "        no_finetuned_dir, \"sa.tab\"), sep='\\t')\n",
    "    sa_feat = sa['spectral_angle'][sa['Label'] == 1]\n",
    "    sa_feat_decoy = sa['spectral_angle'][sa['Label'] == -1]\n",
    "    \n",
    "    andro = pd.read_csv(os.path.join(\n",
    "        no_finetuned_dir, \"andromeda.tab\"), sep='\\t')\n",
    "    andro_feat = andro['andromeda'][andro['Label'] == 1]\n",
    "    andro_feat_decoy = andro['andromeda'][andro['Label'] == -1]\n",
    "\n",
    "    data2plot[which] = {\"score\": (sa_feat, sa_feat_decoy), \"andromeda\": (andro_feat, andro_feat_decoy)}\n"
   ]
  },
  {
   "cell_type": "code",
   "execution_count": null,
   "metadata": {},
   "outputs": [],
   "source": [
    "plot_cum_fdr(data2plot['chymo']['andromeda'][0],\n",
    "             data2plot['chymo']['andromeda'][1])\n"
   ]
  },
  {
   "cell_type": "code",
   "execution_count": null,
   "metadata": {},
   "outputs": [],
   "source": [
    "frag_model = 'prosit_l1'\n",
    "\n",
    "whichs = ['trypsin', 'gluc', \"chymo\", \"lysc\"]\n",
    "data2plot_f = {}\n",
    "for which in whichs:\n",
    "    result_dir = f\"/data/prosit/figs/fig235/{which}/percolator_up/try/{frag_model}\"\n",
    "\n",
    "    no_finetuned_dir = os.path.join(result_dir, \"finetuned\")\n",
    "\n",
    "    sa = pd.read_csv(os.path.join(\n",
    "        no_finetuned_dir, \"sa.tab\"), sep='\\t')\n",
    "    sa_feat = sa['spectral_angle'][sa['Label'] == 1]\n",
    "    sa_feat_decoy = sa['spectral_angle'][sa['Label'] == -1]\n",
    "\n",
    "    andro = pd.read_csv(os.path.join(\n",
    "        no_finetuned_dir, \"andromeda.tab\"), sep='\\t')\n",
    "    andro_feat = andro['andromeda'][andro['Label'] == 1]\n",
    "    andro_feat_decoy = andro['andromeda'][andro['Label'] == -1]\n",
    "\n",
    "    data2plot_f[which] = {\"score\": (sa_feat, sa_feat_decoy), \"andromeda\": (\n",
    "        andro_feat, andro_feat_decoy)}\n"
   ]
  },
  {
   "cell_type": "code",
   "execution_count": null,
   "metadata": {},
   "outputs": [],
   "source": [
    "plot_cum_fdr(data2plot_f['chymo']['score'][0],\n",
    "             data2plot_f['chymo']['score'][1])\n"
   ]
  },
  {
   "cell_type": "code",
   "execution_count": null,
   "metadata": {},
   "outputs": [],
   "source": []
  }
 ],
 "metadata": {
  "interpreter": {
   "hash": "5d2fbcc659f181c42d9e13c25fe9db4d07092f7ca37a96701b3ba6f193176db3"
  },
  "kernelspec": {
   "display_name": "Python 3.6.15 ('torch')",
   "language": "python",
   "name": "python3"
  },
  "language_info": {
   "codemirror_mode": {
    "name": "ipython",
    "version": 3
   },
   "file_extension": ".py",
   "mimetype": "text/x-python",
   "name": "python",
   "nbconvert_exporter": "python",
   "pygments_lexer": "ipython3",
   "version": "3.6.15"
  },
  "orig_nbformat": 4
 },
 "nbformat": 4,
 "nbformat_minor": 2
}
