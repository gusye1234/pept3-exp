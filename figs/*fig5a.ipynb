{
 "cells": [
  {
   "cell_type": "code",
   "execution_count": null,
   "metadata": {},
   "outputs": [],
   "source": [
    "from tools import *\n",
    "import matplotlib.pyplot as plt\n",
    "import tools\n",
    "import pept3\n",
    "import os\n",
    "import seaborn as sns\n",
    "import numpy as np\n",
    "import torch\n",
    "import re\n",
    "from tqdm import tqdm\n",
    "from importlib import reload\n",
    "import bio_helper\n",
    "import sys\n",
    "sys.path.append(\"..\")\n",
    "%load_ext autoreload\n",
    "%autoreload 2\n",
    "reload(bio_helper)\n",
    "\n",
    "# plt.style.use([\"ieee\", 'no-latex'])\n"
   ]
  },
  {
   "cell_type": "code",
   "execution_count": null,
   "metadata": {},
   "outputs": [],
   "source": [
    "\n",
    "def to_tensor(frag_msms):\n",
    "    frag_msms = [i.reshape(1, -1) for i in frag_msms]\n",
    "    frag_msms = np.concatenate(frag_msms, axis=0)\n",
    "    frag_msms /= frag_msms.max()\n",
    "    return torch.from_numpy(frag_msms)\n",
    "# name, msms_data = read_msms(\n",
    "#     \"/data/prosit/test/fig3a/pick_msms.txt\")\n",
    "\n",
    "\n",
    "def read_ions(msms, name):\n",
    "    i_index = name.index(\"Intensities\")\n",
    "    m_index = name.index(\"Matches\")\n",
    "    mass_index = name.index(\"Masses\")\n",
    "    return [(i[m_index].split(\";\"), i[i_index].split(\";\"), i[mass_index].split(\";\")) for i in msms]\n",
    "\n",
    "def get_sa_all(run_model, data_nce_cand, frag_msms):\n",
    "    if torch.cuda.is_available():\n",
    "        device = torch.device(\"cuda\")\n",
    "    else:\n",
    "        device = torch.device(\"cpu\")\n",
    "\n",
    "    def perpare_data(seqs, nces, charges):\n",
    "        seqs = torch.from_numpy(seqs)\n",
    "        nces = torch.from_numpy(nces).unsqueeze(1)\n",
    "        charges = torch.from_numpy(charges)\n",
    "        data = {}\n",
    "        data[\"sequence_integer\"] = seqs.to(device)\n",
    "        data[\"collision_energy_aligned_normed\"] = nces.to(device)\n",
    "        data['precursor_charge_onehot'] = charges.to(device)\n",
    "        data['peptide_mask'] = pept3.helper.create_mask(seqs).to(device)\n",
    "        return data\n",
    "\n",
    "    run_model = run_model.to(device)\n",
    "    with torch.no_grad():\n",
    "        data = perpare_data(*data_nce_cand)\n",
    "        sass = []\n",
    "        for b in range(0, len(frag_msms), 2048):\n",
    "            d = {k: v[b:b+2048] for k, v in data.items()}\n",
    "            pred = run_model(d)\n",
    "            gt_frag = to_tensor(frag_msms[b:b+2048]).to(device)\n",
    "            gt_frag = gt_frag/gt_frag.max()\n",
    "            sas = helper.predict_sa(gt_frag, pred, d)\n",
    "            # sas = helper.spectral_angle(gt_frag, pred)\n",
    "            sass.append(sas)\n",
    "        all_sa = torch.cat(sass, dim=0)\n",
    "    return all_sa\n",
    "\n"
   ]
  },
  {
   "cell_type": "code",
   "execution_count": null,
   "metadata": {},
   "outputs": [],
   "source": [
    "name, msms_data = tools.read_msms(\n",
    "    f\"/data/prosit/figs/fig235/trypsin/maxquant/combined/txt/msms.txt\")\n",
    "msms_data = tools.filter_msms(name, msms_data)\n"
   ]
  },
  {
   "cell_type": "code",
   "execution_count": null,
   "metadata": {},
   "outputs": [],
   "source": [
    "from random import choices\n",
    "msms_data = msms_data[:100000]"
   ]
  },
  {
   "cell_type": "code",
   "execution_count": null,
   "metadata": {},
   "outputs": [],
   "source": [
    "msms_data.sort(key=lambda x: int(x[name.index(\"id\")]))\n",
    "m_r = loc_msms_in_raw(msms_data, f\"/data/prosit/figs/fig235/trypsin/raw\")\n",
    "m_r = sorted(m_r, key=lambda x: int(x[0][name.index(\"id\")]))\n",
    "print(len(m_r))"
   ]
  },
  {
   "cell_type": "code",
   "execution_count": null,
   "metadata": {},
   "outputs": [],
   "source": [
    "ids = [int(x[name.index(\"id\")]) for x in msms_data]\n",
    "print(len(ids), len(set(ids)))\n"
   ]
  },
  {
   "cell_type": "code",
   "execution_count": null,
   "metadata": {},
   "outputs": [],
   "source": [
    "peptides = [i[0][name.index(\"Modified sequence\")].replace(\"_\", \"\") for i in m_r]"
   ]
  },
  {
   "cell_type": "code",
   "execution_count": null,
   "metadata": {},
   "outputs": [],
   "source": [
    "scores = [float(m[0][name.index(\"Score\")]) for m in m_r]\n",
    "label = [0 if m[0][name.index(\"Reverse\")] else 1 for m in m_r]\n",
    "\n",
    "sns.histplot([s for s, l in zip(scores, label)\n",
    "             if l == 1], binwidth=10, label=\"target\", color=\"blue\")\n",
    "ax = sns.histplot([s for s, l in zip(scores, label) if l == 0],\n",
    "                  binwidth=10, label=\"decoy\")\n",
    "ax.set(ylabel=\"#PSMs\", title=\"Andromeda score\")\n",
    "plt.legend()\n"
   ]
  },
  {
   "cell_type": "code",
   "execution_count": null,
   "metadata": {},
   "outputs": [],
   "source": [
    "from pept3 import model\n",
    "import pept3\n",
    "\n",
    "# run_model = model.TransProBest()\n",
    "# run_model.load_state_dict(torch.load(\n",
    "#     \"../checkpoints/frag/nce/best_nce_frag_TransPro-6-3-128-0.1-256-512-0.1-0.3.pth\", map_location=\"cpu\"))\n",
    "# trans_model = run_model.eval()\n",
    "# run_model = model.PrositFrag()\n",
    "# run_model.load_state_dict(torch.load(\n",
    "#     \"../checkpoints/frag/nce/best_nce_frag_PrositFrag-512-0.1.pth\", map_location=\"cpu\"))\n",
    "# trans_model = run_model.eval()\n",
    "\n",
    "\n",
    "run_model = model.PrositFrag()\n",
    "run_model.load_state_dict(torch.load(\n",
    "    \"../checkpoints/best/best_valid_irt_PrositFrag-1024.pth\", map_location=\"cpu\"))\n",
    "prosit = run_model.eval()\n",
    "\n",
    "# run_model = model.PrositFrag()\n",
    "# run_model.load_state_dict(torch.load(\n",
    "#     \"../checkpoints/frag/best_nce_frag_PrositFrag-512.pth\", map_location=\"cpu\"))\n",
    "# prosit_nce = run_model.eval()\n"
   ]
  },
  {
   "cell_type": "code",
   "execution_count": null,
   "metadata": {},
   "outputs": [],
   "source": [
    "matched_ions_pre = generate_matched_ions(m_r)\n",
    "m_i = [bio_helper.match_all(i, 'yb') for i in tqdm(matched_ions_pre)]\n",
    "frag_msms = [bio_helper.reverse_annotation(*i[:4]) for i in tqdm(m_i)]\n"
   ]
  },
  {
   "cell_type": "code",
   "execution_count": null,
   "metadata": {},
   "outputs": [],
   "source": [
    "matched_ions_rever = generate_matched_ions_delta(m_r)\n",
    "m_i_rever = [bio_helper.match_all(i, 'yb') for i in tqdm(matched_ions_rever)]\n",
    "frag_msms_rever = [bio_helper.reverse_annotation(*i[:4]) for i in tqdm(m_i_rever)]\n"
   ]
  },
  {
   "cell_type": "code",
   "execution_count": null,
   "metadata": {},
   "outputs": [],
   "source": [
    "data_nce_cand = generate_from_mi(matched_ions_pre, name, nces=33)\n",
    "data_nce_cand_rever = generate_from_mi(matched_ions_rever, name, nces=33)\n",
    "\n",
    "trans_sa = get_sa_all(trans_model, data_nce_cand, frag_msms)\n",
    "trans_sa = trans_sa.cpu().numpy()\n",
    "trans_sa_rever = get_sa_all(trans_model, data_nce_cand_rever, frag_msms_rever)\n",
    "trans_sa_rever = trans_sa_rever.cpu().numpy()\n",
    "\n",
    "prosit_sa = get_sa_all(prosit, data_nce_cand, frag_msms)\n",
    "prosit_sa = prosit_sa.cpu().numpy()\n",
    "prosit_sa_rever = get_sa_all(prosit, data_nce_cand_rever, frag_msms_rever)\n",
    "prosit_sa_rever = prosit_sa_rever.cpu().numpy()\n",
    "\n",
    "# prosit_nce_sa = get_sa_all(prosit_nce, data_nce_cand, frag_msms)\n",
    "# prosit_nce_sa = prosit_nce_sa.cpu().numpy()\n"
   ]
  },
  {
   "cell_type": "code",
   "execution_count": null,
   "metadata": {},
   "outputs": [],
   "source": [
    "collects = []\n",
    "for i in tqdm(range(10)):\n",
    "    data_random = generate_from_msms_random(msms_data, name, nces=33, mutal=0.1)\n",
    "    prosit_sa_random = get_sa_all(prosit, data_random, frag_msms)\n",
    "    prosit_sa_random = prosit_sa_random.cpu().numpy()\n",
    "    collects.append(prosit_sa_random.reshape(-1, 1))\n",
    "collects = np.concatenate(collects, axis=1)\n",
    "prosit_sa_random = np.mean(collects, axis=1)\n",
    "# trans_sa_random = get_sa_all(trans_model, data_random, frag_msms)\n",
    "# trans_sa_random = trans_sa_random.cpu().numpy()\n"
   ]
  },
  {
   "cell_type": "code",
   "execution_count": null,
   "metadata": {},
   "outputs": [],
   "source": [
    "import pandas as pd\n",
    "\n",
    "# prosit_sa_random[prosit_sa >= prosit_sa_random] = 0\n",
    "\n",
    "joint_pd = pd.DataFrame({\"sa\": trans_sa, \"and\": trans_sa_rever,\n",
    "                        \"label\": ['decoy' if m[0][name.index(\"Reverse\")] else \"target\" for m in m_r]})\n",
    "\n",
    "ax = sns.jointplot(x=\"and\", y='sa', data=joint_pd, hue='label')\n",
    "ax.set_axis_labels('Reverse SA', 'SA')\n",
    "# plt.legend()\n"
   ]
  },
  {
   "cell_type": "code",
   "execution_count": null,
   "metadata": {},
   "outputs": [],
   "source": [
    "c = (prosit_sa < prosit_sa_rever)\n",
    "see = [1 if m[0][name.index(\"Reverse\")] else 0 for i, m in enumerate(m_r) if c[i]]\n",
    "print(np.sum(see), c.sum())\n",
    "\n",
    "sns.histplot(prosit_sa[c])\n"
   ]
  },
  {
   "cell_type": "code",
   "execution_count": null,
   "metadata": {},
   "outputs": [],
   "source": [
    "print(np.mean([1 if m[0][name.index(\"Reverse\")]\n",
    "      else 0 for i, m in enumerate(m_r)]))\n"
   ]
  },
  {
   "cell_type": "code",
   "execution_count": null,
   "metadata": {},
   "outputs": [],
   "source": [
    "import pandas as pd\n",
    "\n",
    "joint_pd = pd.DataFrame({\"sa\": trans_sa, \"and\": trans_sa - trans_sa_rever, \"label\": ['decoy' if m[0][name.index(\"Reverse\")] else \"target\" for m in m_r]})\n",
    "\n",
    "ax = sns.jointplot(x=\"and\", y='sa', data=joint_pd, hue='label')\n",
    "ax.set_axis_labels('Reverse SA', 'SA')"
   ]
  },
  {
   "cell_type": "code",
   "execution_count": null,
   "metadata": {},
   "outputs": [],
   "source": []
  },
  {
   "cell_type": "code",
   "execution_count": null,
   "metadata": {},
   "outputs": [],
   "source": [
    "sns.histplot([s.item() for s, l in zip(trans_sa, label)\n",
    "             if l == 1 and s.item() >= 0], binwidth=0.02, label=\"target\", color=\"blue\")\n",
    "ax = sns.histplot([s.item() for s, l in zip(trans_sa, label) if l == 0 and s.item() >= 0],\n",
    "                  binwidth=0.02, label=\"decoy\")\n",
    "ax.set(ylabel=\"#PSMs\", title=\"SA(Ours)\")\n",
    "plt.legend()\n"
   ]
  },
  {
   "cell_type": "code",
   "execution_count": null,
   "metadata": {},
   "outputs": [],
   "source": [
    "index = [i for i, (s, l) in enumerate(zip(trans_sa, label))\n",
    "         if l == 1]\n",
    "\n",
    "index_ = [i for i, (s, l) in enumerate(zip(trans_sa, label))\n",
    "          if l == 0]\n",
    "ax = sns.jointplot(x=[scores[i] for i in index], y=[trans_sa[i].item()\n",
    "                   for i in index], label=\"target\", color=\"green\", s=12)\n",
    "ax.set_axis_labels('Andromeda score', 'SA')\n",
    "\n",
    "x = [scores[i] for i in index_]\n",
    "y = [trans_sa[i].item() for i in index_]\n",
    "ax.ax_joint.scatter(x=x, y=y, s=10, color=\"darkred\",label=\"decoy\")\n",
    "# ax2 = sns.jointplot(x=[scores[i] for i in index_], y=[trans_sa[i].item()\n",
    "#                                                       for i in index_], label=\"decoy\", ax=ax)\n",
    "# ax.legend()\n"
   ]
  },
  {
   "cell_type": "code",
   "execution_count": null,
   "metadata": {},
   "outputs": [],
   "source": [
    "sns.jointplot(x=trans_sa, y=prosit_sa)"
   ]
  },
  {
   "cell_type": "code",
   "execution_count": null,
   "metadata": {},
   "outputs": [],
   "source": [
    "per_name, per_data = tools.read_msms(\n",
    "    f\"/data/prosit/figs/fig235/trypsin/percolator_up/prosit_combined_weights.tab\")\n"
   ]
  },
  {
   "cell_type": "code",
   "execution_count": null,
   "metadata": {},
   "outputs": [],
   "source": [
    "len(per_data)"
   ]
  },
  {
   "cell_type": "markdown",
   "metadata": {},
   "source": []
  },
  {
   "cell_type": "code",
   "execution_count": null,
   "metadata": {},
   "outputs": [],
   "source": [
    "labels = np.array([1 if int(i[per_name.index(\"Label\")]) > 0 else 0 for i in per_data])\n",
    "scores = np.array([float(i[per_name.index(\"andromeda\")]) for i in per_data])\n",
    "sa = np.array([float(i[per_name.index(\"spectral_angle\")]) for i in per_data])\n"
   ]
  },
  {
   "cell_type": "code",
   "execution_count": null,
   "metadata": {},
   "outputs": [],
   "source": [
    "sns.histplot([s for s, l in zip(sa, labels)\n",
    "             if l == 1], binwidth=0.02, label=\"target\", color=\"blue\")\n",
    "ax = sns.histplot([s for s, l in zip(sa, labels) if l == 0],\n",
    "                  binwidth=0.02, label=\"decoy\")\n",
    "ax.set(ylabel=\"#PSMs\", title=\"Andromeda score\")\n",
    "plt.legend()\n"
   ]
  },
  {
   "cell_type": "code",
   "execution_count": null,
   "metadata": {},
   "outputs": [],
   "source": [
    "index = [i for i, (s, l) in enumerate(zip(sa, labels))\n",
    "         if l == 1 and s.item() >= 0]\n",
    "\n",
    "index_ = [i for i, (s, l) in enumerate(zip(sa, labels))\n",
    "          if l == 0 and s.item() >= 0]\n",
    "ax = sns.jointplot(x=[scores[i] for i in index], y=[sa[i]\n",
    "                   for i in index], label=\"target\", color=\"green\", s=12)\n",
    "ax.set_axis_labels('Andromeda score', 'SA')\n",
    "\n",
    "x = [scores[i] for i in index_]\n",
    "y = [sa[i] for i in index_]\n",
    "ax.ax_joint.scatter(x=x, y=y, s=5, color=\"darkred\", label=\"decoy\")\n",
    "# ax2 = sns.jointplot(x=[scores[i] for i in index_], y=[trans_sa[i].item()\n",
    "#                                                       for i in index_], label=\"decoy\", ax=ax)\n",
    "# ax.legend()\n"
   ]
  },
  {
   "cell_type": "code",
   "execution_count": null,
   "metadata": {},
   "outputs": [],
   "source": [
    "sns.histplot([s for s, l in zip(sa, labels)\n",
    "             if l == 1], binwidth=0.02, label=\"target\", color=\"blue\")\n",
    "ax = sns.histplot([s for s, l in zip(sa, labels) if l == 0],\n",
    "                  binwidth=0.02, label=\"decoy\")\n",
    "ax.set(ylabel=\"#PSMs\", title=\"SA(Ours)\")\n",
    "plt.legend()\n"
   ]
  },
  {
   "cell_type": "code",
   "execution_count": null,
   "metadata": {},
   "outputs": [],
   "source": [
    "m = per_data[0]\n",
    "print(sa[0], scores[0], labels[0], per_name)"
   ]
  },
  {
   "cell_type": "code",
   "execution_count": null,
   "metadata": {},
   "outputs": [],
   "source": [
    "from collections import defaultdict\n",
    "per_p_index = per_name.index(\"Peptide\")\n",
    "score_p_index = per_name.index(\"andromeda\")\n",
    "sa_p_index = per_name.index(\"spectral_angle\")\n",
    "label_p_index = per_name.index(\"Label\")\n",
    "mass_p_index = per_name.index(\"delta_score\")\n",
    "per_index = defaultdict(list)\n",
    "\n",
    "for p in per_data:\n",
    "    assert p[per_p_index][:2] == \"_.\"\n",
    "    assert p[per_p_index][-2:] == \"._\"\n",
    "    p_p = p[per_p_index][2:-2]\n",
    "    p_s = float(p[score_p_index])\n",
    "    p_sa = float(p[sa_p_index])\n",
    "    per_index[p_p].append((p_s, p_sa, int(p[label_p_index]), float(p[mass_p_index])))\n"
   ]
  },
  {
   "cell_type": "code",
   "execution_count": null,
   "metadata": {},
   "outputs": [],
   "source": [
    "\n",
    "matches = []\n",
    "for m, s in tqdm(zip(m_r, prosit_sa)):\n",
    "    msms = m[0]\n",
    "    pep = msms[name.index(\"Modified sequence\")].strip(\"_\")\n",
    "    scores = float(msms[name.index(\"Score\")])\n",
    "    l1 = -1 if msms[name.index(\"Reverse\")] else 1\n",
    "    mass_m = float(msms[name.index(\"Delta score\")])\n",
    "    cand = per_index[pep]\n",
    "    if len(cand):\n",
    "        for c in cand:\n",
    "            if abs(scores - c[0]) < 1e-8 and abs(mass_m - c[3]) < 1e-8 and l1==c[2]:\n",
    "                matches.append((s.item(), c[1], c[2]))\n",
    "                break"
   ]
  },
  {
   "cell_type": "code",
   "execution_count": null,
   "metadata": {},
   "outputs": [],
   "source": [
    "len(matches)"
   ]
  },
  {
   "cell_type": "code",
   "execution_count": null,
   "metadata": {},
   "outputs": [],
   "source": [
    "# plt.scatter([i[0] for i in matches if i[2] < 0], [i[1]\n",
    "#             for i in matches if i[2] < 0], s=2)\n",
    "\n",
    "ax = sns.jointplot(x=[i[0] for i in matches if i[2] <0], y=[i[1] for i in matches if i[2] <0], label=\"decoy\", color=\"green\", s=12)\n",
    "ax.set_axis_labels(\"Our SA\", \"Percolator SA\")\n"
   ]
  },
  {
   "cell_type": "code",
   "execution_count": null,
   "metadata": {},
   "outputs": [],
   "source": [
    "ax = sns.jointplot(x=[i[0] for i in matches if i[2] > 0], y=[i[1]\n",
    "                   for i in matches if i[2] > 0], label=\"target\", color=\"green\", s=12)\n",
    "ax.set_axis_labels(\"Our SA\", \"Percolator SA\")\n"
   ]
  },
  {
   "cell_type": "code",
   "execution_count": null,
   "metadata": {},
   "outputs": [],
   "source": [
    "per_name"
   ]
  },
  {
   "cell_type": "code",
   "execution_count": null,
   "metadata": {},
   "outputs": [],
   "source": [
    "[i[per_name.index('Mass')] for i in per_data]\n"
   ]
  },
  {
   "cell_type": "code",
   "execution_count": null,
   "metadata": {},
   "outputs": [],
   "source": [
    "[i[name.index('Mass')] for i in msms_data]"
   ]
  },
  {
   "cell_type": "code",
   "execution_count": null,
   "metadata": {},
   "outputs": [],
   "source": []
  }
 ],
 "metadata": {
  "interpreter": {
   "hash": "5d2fbcc659f181c42d9e13c25fe9db4d07092f7ca37a96701b3ba6f193176db3"
  },
  "kernelspec": {
   "display_name": "Python 3",
   "language": "python",
   "name": "python3"
  },
  "language_info": {
   "codemirror_mode": {
    "name": "ipython",
    "version": 3
   },
   "file_extension": ".py",
   "mimetype": "text/x-python",
   "name": "python",
   "nbconvert_exporter": "python",
   "pygments_lexer": "ipython3",
   "version": "3.6.15"
  }
 },
 "nbformat": 4,
 "nbformat_minor": 4
}
