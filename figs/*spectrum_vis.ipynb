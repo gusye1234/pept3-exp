{
 "cells": [
  {
   "cell_type": "code",
   "execution_count": null,
   "id": "eabc456b-e8af-475d-981c-53e9f147f127",
   "metadata": {},
   "outputs": [],
   "source": [
    "import matplotlib.pyplot as plt\n",
    "import pandas as pd\n",
    "import spectrum_utils.plot as sup\n",
    "import spectrum_utils.spectrum as sus\n",
    "import urllib.parse\n",
    "import bio_helper\n",
    "import tools\n",
    "import seaborn as sns\n",
    "from tools import *\n",
    "%load_ext autoreload\n",
    "%autoreload 2\n",
    "from importlib import reload\n",
    "reload(bio_helper)\n",
    "plt.style.use([])\n",
    "import sys\n",
    "sys.path.append(\"..\")\n",
    "from ms import finetune\n",
    "from fdr_test import fixed_features"
   ]
  },
  {
   "cell_type": "code",
   "execution_count": null,
   "id": "c81ec2eb-9c01-40bb-a75a-305a272342f0",
   "metadata": {},
   "outputs": [],
   "source": [
    "which = \"chymo\"\n",
    "msms_file = f\"/data/prosit/figs/fig235/{which}/maxquant/combined/txt/msms.txt\"\n",
    "raw_dir =   f\"/data/prosit/figs/fig235/{which}/raw\"\n",
    "fixed_features_dir = f\"/data/prosit/figs/fig235/{which}/percolator_up/try/prosit_l1\"\n",
    "\n",
    "name, msms_data = tools.read_msms(msms_file)\n",
    "msms_data = tools.filter_msms(name, msms_data)\n",
    "\n",
    "\n",
    "msms_data = msms_data[:100000]\n",
    "msms_data.sort(key=lambda x: int(x[name.index(\"id\")]))\n",
    "m_r = loc_msms_in_raw(msms_data, raw_dir)\n",
    "tabels_file = fixed_features(\n",
    "            msms_file, raw_dir, fixed_features_dir)\n"
   ]
  },
  {
   "cell_type": "code",
   "execution_count": null,
   "id": "459a932e",
   "metadata": {},
   "outputs": [],
   "source": [
    "peptides = [i[0][name.index(\"Sequence\")].replace(\"_\", \"\") for i in m_r]\n",
    "charges = [int(i[0][name.index(\"Charge\")]) for i in m_r]\n",
    "precursor_mz = [float(i[0][name.index(\"m/z\")]) for i in m_r]\n",
    "andromeda = [float(i[0][name.index(\"Score\")]) for i in m_r]\n",
    "labels = [-1 if len(i[0][name.index(\"Reverse\")]) else 1 for i in m_r] "
   ]
  },
  {
   "cell_type": "code",
   "execution_count": null,
   "id": "c6649f68",
   "metadata": {},
   "outputs": [],
   "source": [
    "from ms import model\n",
    "import ms\n",
    "\n",
    "run_model = model.PrositFrag()\n",
    "run_model.load_state_dict(torch.load(\n",
    "    \"/home/gus/Desktop/ms_pred/checkpoints/frag/best_frag_l1_PrositFrag-1024.pth\", map_location=\"cpu\"))\n",
    "prosit = run_model.eval()\n",
    "\n",
    "finetuned_prosit, _ = finetune.semisupervised_finetune(prosit, tabels_file, gpu_index=0)"
   ]
  },
  {
   "cell_type": "code",
   "execution_count": null,
   "id": "9330620c",
   "metadata": {},
   "outputs": [
    {
     "name": "stderr",
     "output_type": "stream",
     "text": [
      "  4%|▍         | 4074/100000 [00:18<01:16, 1250.75it/s]"
     ]
    }
   ],
   "source": [
    "matched_ions_pre = generate_matched_ions(m_r)\n",
    "m_i = [bio_helper.match_all(i, 'yb') for i in tqdm(matched_ions_pre)]\n",
    "frag_msms = [bio_helper.reverse_annotation(*i[:4]) for i in tqdm(m_i)]"
   ]
  },
  {
   "cell_type": "markdown",
   "id": "e7581cd1",
   "metadata": {},
   "source": []
  },
  {
   "cell_type": "code",
   "execution_count": null,
   "id": "92dec987",
   "metadata": {},
   "outputs": [],
   "source": [
    "data_nce_cand = generate_from_mi(matched_ions_pre, name, nces=33)\n",
    "prosit_sa, prosit_inten = get_sa_all(prosit, data_nce_cand, frag_msms, gpu_index=2)\n",
    "prosit_sa = prosit_sa.cpu().numpy()\n",
    "prosit_inten = prosit_inten.cpu().numpy()\n",
    "\n",
    "finetune_prosit_sa, finetune_prosit_inten = get_sa_all(finetuned_prosit, data_nce_cand, frag_msms, gpu_index=2)\n",
    "finetune_prosit_sa = finetune_prosit_sa.cpu().numpy()\n",
    "finetune_prosit_inten = finetune_prosit_inten.cpu().numpy()"
   ]
  },
  {
   "cell_type": "code",
   "execution_count": null,
   "id": "cfe04220",
   "metadata": {},
   "outputs": [],
   "source": [
    "import matplotlib as mpl\n",
    "plt.style.use(['ieee', 'no-latex'])\n",
    "plt.rcParams[\"font.family\"] = \"Times New Roman\"\n",
    "joint_pd = pd.DataFrame({\"SA\": prosit_sa, \"Fine-tuned SA\": finetune_prosit_sa,\n",
    "                        \"label\": ['decoy' if m==-1 else \"target\" for m in labels]})\n",
    "ax = sns.jointplot(x=\"SA\", y='Fine-tuned SA', data=joint_pd, hue='label')\n",
    "mpl.rcParams.update(mpl.rcParamsDefault)\n"
   ]
  },
  {
   "cell_type": "code",
   "execution_count": null,
   "id": "266f5c8a",
   "metadata": {},
   "outputs": [],
   "source": [
    "combined_scores = [(i,p) for i, p in enumerate(zip(andromeda, prosit_sa, finetune_prosit_sa, labels))]\n",
    "combined_scores.sort(key=lambda x: x[1][2] - x[1][1])\n",
    "\n",
    "for p in combined_scores[-200:-100]:\n",
    "    print(f\"{p[0]}({p[1][3]}): {p[1][0]},\\t{p[1][2] - p[1][1]:.4f}\")"
   ]
  },
  {
   "cell_type": "code",
   "execution_count": null,
   "id": "05e37001",
   "metadata": {},
   "outputs": [],
   "source": [
    "import spectrum_vis as sup\n",
    "import matplotlib.ticker as mticker\n",
    "\n",
    "plt.rcParams[\"font.family\"] = \"Ubuntu\"\n",
    "\n",
    "which_psm = 52744\n",
    "intensity = m_i[which_psm][1]\n",
    "mass = m_i[which_psm][5]\n",
    "peptide = peptides[which_psm]\n",
    "m_over_z = precursor_mz[which_psm]\n",
    "charge = charges[which_psm]\n",
    "pred_inten = prosit_inten[which_psm]\n",
    "pred_inten[pred_inten<0] = 0\n",
    "sa = prosit_sa[which_psm]\n",
    "fine_pred_inten = finetune_prosit_inten[which_psm]\n",
    "fine_pred_inten[fine_pred_inten<0] = 0\n",
    "fine_sa = finetune_prosit_sa[which_psm]\n",
    "\n",
    "pred_match = bio_helper.pair_backbone_with_mass(pred_inten, peptide, charge)\n",
    "fine_pred_match = bio_helper.pair_backbone_with_mass(fine_pred_inten, peptide, charge)\n",
    "\n",
    "\n",
    "# print(pred_match[0], pred_match[1])\n",
    "spectrum_1 = sus.MsmsSpectrum(\"see\", m_over_z, charge, mass, intensity, peptide=peptide) .filter_intensity(min_intensity=0.05, max_num_peaks=50)\n",
    "spectrum_2 = sus.MsmsSpectrum(\"see\", m_over_z, charge, pred_match[1], pred_match[0], peptide=peptide) .filter_intensity(min_intensity=0.05, max_num_peaks=50)\n",
    "spectrum_3 = sus.MsmsSpectrum(\"see\", m_over_z, charge, fine_pred_match[1], fine_pred_match[0], peptide=peptide) .filter_intensity(min_intensity=0.05, max_num_peaks=50)\n",
    "\n",
    "fig, ax = plt.subplots(figsize=(9, 6), dpi=300)\n",
    "fragment_tol_mass = 30\n",
    "fragment_tol_mode = 'ppm'\n",
    "spectrum_1 = spectrum_1.annotate_peptide_fragments(fragment_tol_mass, fragment_tol_mode, ion_types='by')\n",
    "spectrum_2 = spectrum_2.annotate_peptide_fragments(fragment_tol_mass, fragment_tol_mode, ion_types='by')\n",
    "spectrum_3 = spectrum_3.annotate_peptide_fragments(fragment_tol_mass, fragment_tol_mode, ion_types='by')\n",
    "# sup.mirror(spectrum_1, spectrum_2)\n",
    "gd_color = {None: \"#212121\"}\n",
    "before_color = {None: \"#212121\"}\n",
    "after_color = {None: \"#F57C00\"}\n",
    "\n",
    "sup.spectrum(spectrum_1, grid=False, annotate_ions=True, color_ions=False,linewidth=8, alpha=0.2, ax=ax, colors=gd_color, label=\"Observed\")\n",
    "sup.spectrum(spectrum_2, grid=False, ax=ax, annotate_ions=True, color_ions=True, colors=before_color, label=\"No fine-tuned\")\n",
    "\n",
    "sup.spectrum(spectrum_1, grid=False, annotate_ions=False, color_ions=False,linewidth=8, alpha=0.2, mirror_intensity=True, ax=ax)\n",
    "sup.spectrum(spectrum_3, grid=False, mirror_intensity=True, color_ions=True, ax=ax, annotate_ions=True, colors=after_color, label=\"Fine-tuned\")\n",
    "ax.set_ylim(-1.5, 1.5)\n",
    "ax.set_xlim(-100, 1000)\n",
    "ax.axhline(0, color=\"#9E9E9E\", zorder=10)\n",
    "ax.yaxis.set_major_locator(mticker.AutoLocator())\n",
    "ax.yaxis.set_minor_locator(mticker.AutoMinorLocator())\n",
    "ax.yaxis.set_major_formatter(\n",
    "    mticker.FuncFormatter(lambda x, pos: f\"{abs(x):.0%}\")\n",
    ")\n",
    "ax.legend(loc='upper center', bbox_to_anchor=(0.5, -0.1),\n",
    "          fancybox=True, shadow=True, ncol=5)\n",
    "ax.text(-90, 1.2, f\"Andromeda: {andromeda[which_psm]}\\nSA: {sa:.3f}\", fontsize=14)\n",
    "ax.text(-90, -1.4, f\"Andromeda: {andromeda[which_psm]}\\nSA: {fine_sa:.3f}\", fontsize=14)\n",
    "print(andromeda[which_psm],sa, fine_sa)\n"
   ]
  },
  {
   "cell_type": "code",
   "execution_count": null,
   "id": "d3664236",
   "metadata": {},
   "outputs": [],
   "source": []
  },
  {
   "cell_type": "code",
   "execution_count": null,
   "id": "dfdc544f",
   "metadata": {},
   "outputs": [],
   "source": []
  }
 ],
 "metadata": {
  "kernelspec": {
   "display_name": "Python 3 (ipykernel)",
   "language": "python",
   "name": "python3"
  },
  "language_info": {
   "codemirror_mode": {
    "name": "ipython",
    "version": 3
   },
   "file_extension": ".py",
   "mimetype": "text/x-python",
   "name": "python",
   "nbconvert_exporter": "python",
   "pygments_lexer": "ipython3",
   "version": "3.6.15"
  }
 },
 "nbformat": 4,
 "nbformat_minor": 5
}
