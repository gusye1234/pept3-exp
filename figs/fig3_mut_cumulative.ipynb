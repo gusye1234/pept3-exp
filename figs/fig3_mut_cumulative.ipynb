{
 "cells": [
  {
   "cell_type": "code",
   "execution_count": 1,
   "metadata": {},
   "outputs": [],
   "source": [
    "import pandas as pd\n",
    "import matplotlib.pyplot as plt\n",
    "import numpy as np\n",
    "\n",
    "plt.rcParams['svg.fonttype'] = 'none'"
   ]
  },
  {
   "cell_type": "code",
   "execution_count": 10,
   "metadata": {},
   "outputs": [],
   "source": [
    "prosit_peps = pd.read_csv(\"/data/yejb/prosit/figs/boosting/figs/Figure_5_Mel15/forPride/rescoring_for_paper_2/percolator/prosit_target.peptides\", sep='\\t')\n",
    "prosit_peps = {k.strip(\"_\").strip(\".\").upper() : v for k, v in zip(prosit_peps['peptide'], prosit_peps['q-value'])}\n",
    "ft_peps = pd.read_csv(\"/data/yejb/prosit/figs/boosting/figs/Figure_5_Mel15/3fold_hdf5_0.1/prosit_target.peptides\", sep='\\t')\n",
    "ft_peps = {k.strip(\"_\").strip(\".\").upper() : v for k, v in zip(ft_peps['peptide'], ft_peps['q-value'])}"
   ]
  },
  {
   "cell_type": "code",
   "execution_count": 11,
   "metadata": {},
   "outputs": [
    {
     "name": "stderr",
     "output_type": "stream",
     "text": [
      "/home/yejb/miniconda3/lib/python3.9/site-packages/IPython/core/interactiveshell.py:3444: DtypeWarning: Columns (84) have mixed types.Specify dtype option on import or set low_memory=False.\n",
      "  exec(code_obj, self.user_global_ns, self.user_ns)\n"
     ]
    }
   ],
   "source": [
    "from tqdm import tqdm\n",
    "FASTA = \"/data/yejb/prosit/figs/boosting/figs/Figure_5_Mel15/Mel15OP1_mut_only.fasta\"\n",
    "\n",
    "def if_mutation(d):\n",
    "    return \"|\" in d\n",
    "\n",
    "\n",
    "def filter_prefixs(data, prefixs):\n",
    "    new_data = []\n",
    "\n",
    "    def check(f: str):\n",
    "        for p in prefixs:\n",
    "            if f.startswith(p):\n",
    "                return True\n",
    "        return False\n",
    "\n",
    "    for pack in data:\n",
    "        mut_flag = pack[0]\n",
    "        for f in mut_flag.split('|'):\n",
    "            if check(f):\n",
    "                new_data.append(pack)\n",
    "                break\n",
    "    return new_data\n",
    "\n",
    "\n",
    "def read_mut(mut_fasta):\n",
    "    mut_pair = []\n",
    "    with open(mut_fasta) as f:\n",
    "        for l in f:\n",
    "            l = l.strip()\n",
    "            if l.startswith(\">\"):\n",
    "                mut_pair.append([l])\n",
    "            else:\n",
    "                mut_pair[-1].append(l)\n",
    "    return mut_pair\n",
    "\n",
    "\n",
    "def extract_loc(data):\n",
    "    all_locs = []\n",
    "    new_data = []\n",
    "    can_not_parse = 0\n",
    "    out_bound = 0\n",
    "    for pack in data:\n",
    "        mut_flag = pack[0]\n",
    "        missense = mut_flag.split(\"|\")\n",
    "\n",
    "        try:\n",
    "            mis_loc = int(missense[11])\n",
    "        except:\n",
    "            can_not_parse += 1\n",
    "            continue\n",
    "        try:\n",
    "            assert mis_loc <= len(pack[1])\n",
    "            assert mis_loc > 0\n",
    "        except:\n",
    "            out_bound += 1\n",
    "            continue\n",
    "            # raise\n",
    "        new_data.append(pack)\n",
    "        all_locs.append(mis_loc)\n",
    "    print(f\"{len(data)}, {can_not_parse}, {out_bound}\")\n",
    "    return all_locs, new_data\n",
    "\n",
    "\n",
    "def check_missense_overlap(target, pep, loc):\n",
    "    possible_left = max(0, loc - len(pep))\n",
    "    possible_right = min(len(target), loc + len(pep) - 1)\n",
    "    possible_area = target[possible_left:possible_right]\n",
    "    return (pep.lower() in possible_area.lower())\n",
    "\n",
    "\n",
    "def check_frameshift_overlap(target, pep, loc):\n",
    "    possible_left = max(0, loc - len(pep))\n",
    "    possible_area = target[possible_left:]\n",
    "    return (pep.lower() in possible_area.lower())\n",
    "\n",
    "\n",
    "def if_frameshift(data):\n",
    "    return \"frameshift_variant\" in data\n",
    "\n",
    "\n",
    "def if_missense(data):\n",
    "    return \"missense\" in data\n",
    "\n",
    "protein_groups = pd.read_csv(\n",
    "    '/data2/yejb/prosit/boosting_bp/txt_Mel15/peptides.txt', sep='\\t')\n",
    "protein_groups = protein_groups[protein_groups['Reverse'] != '+']\n",
    "protein_groups = protein_groups[protein_groups['Proteins'].apply(\n",
    "    lambda x: all([if_mutation(p) for p in x.split(\";\")]))]\n",
    "LEGAL_PEPS = set(protein_groups['Sequence'])\n",
    "\n"
   ]
  },
  {
   "cell_type": "code",
   "execution_count": 12,
   "metadata": {},
   "outputs": [
    {
     "name": "stdout",
     "output_type": "stream",
     "text": [
      "total 282 peptides to search\n",
      "48101, 1, 676\n",
      "Total 47424 mutation to check\n"
     ]
    },
    {
     "name": "stderr",
     "output_type": "stream",
     "text": [
      "100%|██████████| 282/282 [00:14<00:00, 19.65it/s]"
     ]
    },
    {
     "name": "stdout",
     "output_type": "stream",
     "text": [
      "Total 113 available mutation peptides\n"
     ]
    },
    {
     "name": "stderr",
     "output_type": "stream",
     "text": [
      "\n"
     ]
    }
   ],
   "source": [
    "threshold = 0.03\n",
    "legal_mut_peps = set([p.upper() for p in LEGAL_PEPS])\n",
    "# legal_mut_peps = legal_mut_peps.intersection(set([k for k, v in prosit_peps.items() if v < threshold]))\n",
    "legal_mut_peps = legal_mut_peps.intersection(set([k for k, v in ft_peps.items() if v < threshold]))\n",
    "\n",
    "print(f\"total {len(legal_mut_peps)} peptides to search\")\n",
    "MUT_DATA = filter_prefixs(\n",
    "    read_mut(FASTA), [\"missense\", \"frameshift_variant\", \"non_coding_transcript_exon_variant\"])\n",
    "MUT_LOC, MUT_DATA = extract_loc(MUT_DATA)\n",
    "print(f\"Total {len(MUT_DATA)} mutation to check\")\n",
    "\n",
    "all_mut_peps = []\n",
    "\n",
    "for pep in tqdm(legal_mut_peps):\n",
    "    for mut_loc, mut_core in zip(MUT_LOC, MUT_DATA):\n",
    "        core_pep = mut_core[1]\n",
    "        if if_frameshift(mut_core[0]) and check_frameshift_overlap(core_pep, pep, mut_loc):\n",
    "            all_mut_peps.append(pep)\n",
    "            break\n",
    "        elif check_missense_overlap(core_pep, pep, mut_loc):\n",
    "            all_mut_peps.append(pep)\n",
    "            break\n",
    "\n",
    "all_mut_peps = set(all_mut_peps)\n",
    "print(f\"Total {len(all_mut_peps)} available mutation peptides\")\n"
   ]
  },
  {
   "cell_type": "code",
   "execution_count": 13,
   "metadata": {},
   "outputs": [
    {
     "name": "stdout",
     "output_type": "stream",
     "text": [
      "113\n",
      "113\n"
     ]
    },
    {
     "data": {
      "image/png": "[encoded data removed]",
      "text/plain": [
       "<Figure size 400x400 with 2 Axes>"
      ]
     },
     "metadata": {},
     "output_type": "display_data"
    }
   ],
   "source": [
    "def plot_cums_with_highlight(score_dict1, score_dict2, pick_pep, label=\"No Fine-tuned\"):\n",
    "    import matplotlib as mpl\n",
    "    plt.style.use(['ieee', \"high-vis\", 'no-latex'])\n",
    "    plt.rcParams[\"font.family\"] = \"DejaVu Sans\"\n",
    "    plt.rcParams['svg.fonttype'] = 'none'\n",
    "    \n",
    "    fig, axs = plt.subplots(2, figsize=(4, 4), dpi=100)\n",
    "    \n",
    "    max_q = 0.7\n",
    "    for i, (ax, score_dict) in enumerate(zip(axs, [score_dict1, score_dict2])):\n",
    "        scores = np.array(list(score_dict.values()))\n",
    "        scores = scores[scores < max_q]\n",
    "        t_v, t_base = np.histogram(scores, bins=9000)\n",
    "        t_base = t_base[:-1]\n",
    "        t_cum_sum = np.cumsum(t_v) / len(scores)\n",
    "        \n",
    "        ax.plot(t_base, t_cum_sum, linewidth=8, alpha=.8, c='lightgreen',zorder=0, solid_capstyle='round', label=\"Identified Peptides\")\n",
    "        \n",
    "        which_bin = []\n",
    "        which_num = []\n",
    "        c_count = 0\n",
    "        for pep in pick_pep:\n",
    "            if pep in score_dict:\n",
    "                if score_dict[pep] < max_q:\n",
    "                    c_count += 1\n",
    "                    this_bin = np.argsort(np.abs(t_base - score_dict[pep]))[0]\n",
    "                    which_bin.append(t_base[this_bin])\n",
    "                    which_num.append(t_cum_sum[this_bin])\n",
    "        print(c_count)\n",
    "        ax.scatter(which_bin, which_num, label='Neo-Epitope', marker='+', linewidths=0.5, s=2, c='green', zorder=5)\n",
    "        ax.set_ylim((0., 1.1))\n",
    "        ax.set_xlim((-0.05, max_q))\n",
    "        if i == 0:\n",
    "            ax.set_xticklabels([])\n",
    "            ax.set_title(\"No Fine-tuned\", fontsize=15)\n",
    "        else:\n",
    "            ax.set_title(\"Fine-tuned\", fontsize=15)\n",
    "        ax.xaxis.grid(linestyle='--')\n",
    "        ax.text(0, 0.8, f\"n={len(which_bin)}\", fontsize=8)\n",
    "    ax.set_xlabel(\"Fasle discovery rate(%)\", fontsize=15)\n",
    "    ax.legend(loc=\"lower right\", frameon=False)\n",
    "    # axs[0].set_ylabel('Cumulative Distribution', fontsize=10)\n",
    "    # ax.set_xlim((0, 0.03))\n",
    "    fig.tight_layout()\n",
    "    fig.text(-0.04, 0.5, 'Cumulative Distribution',\n",
    "            va='center', rotation='vertical', fontsize=15)\n",
    "    fig.savefig(f\"figs/fig3-mut_cumulative.svg\", dpi=300, bbox_inches=\"tight\")\n",
    "    mpl.rcParams.update(mpl.rcParamsDefault)\n",
    "    return fig, ax\n",
    "fig, ax = plot_cums_with_highlight(prosit_peps, ft_peps, all_mut_peps)"
   ]
  },
  {
   "cell_type": "code",
   "execution_count": null,
   "metadata": {},
   "outputs": [],
   "source": []
  }
 ],
 "metadata": {
  "interpreter": {
   "hash": "17465660725f2b6bdd0101ccb038f8fe4c98405cd7a343be234717463386f391"
  },
  "kernelspec": {
   "display_name": "Python 3 (ipykernel)",
   "language": "python",
   "name": "python3"
  },
  "language_info": {
   "codemirror_mode": {
    "name": "ipython",
    "version": 3
   },
   "file_extension": ".py",
   "mimetype": "text/x-python",
   "name": "python",
   "nbconvert_exporter": "python",
   "pygments_lexer": "ipython3",
   "version": "3.9.5"
  }
 },
 "nbformat": 4,
 "nbformat_minor": 4
}
