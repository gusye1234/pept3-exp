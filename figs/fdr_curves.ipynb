{
 "cells": [
  {
   "cell_type": "code",
   "execution_count": 2,
   "metadata": {},
   "outputs": [],
   "source": [
    "import h5py\n",
    "import torch\n",
    "import json\n",
    "import numpy as np\n",
    "\n",
    "import os\n",
    "import sys\n",
    "sys.path.append(\"..\")\n",
    "import torch\n",
    "import json\n",
    "from ms import helper\n",
    "import sys\n",
    "import pandas as pd\n",
    "import bio_helper\n",
    "from ms.model import PrositFrag, pDeep2_nomod\n",
    "from tqdm import tqdm\n",
    "from ms.dataset import FragDataset, IrtDataset\n",
    "from torch.utils.data import DataLoader\n",
    "import numpy as np\n",
    "import matplotlib.pyplot as plt\n",
    "import seaborn as sns\n",
    "%load_ext autoreload"
   ]
  },
  {
   "cell_type": "code",
   "execution_count": 2,
   "metadata": {},
   "outputs": [],
   "source": [
    "# which = \"HLA_2\"\n",
    "# frag_model = \"prosit_hcd\"\n",
    "# result_dir = f\"/data/yejb/prosit/figs/boosting/figs/Figure_5_{which}/percolator/{frag_model}_finetune\""
   ]
  },
  {
   "cell_type": "code",
   "execution_count": 3,
   "metadata": {},
   "outputs": [],
   "source": [
    "which = \"trypsin\"\n",
    "frag_model = 'prosit_l1'\n",
    "result_dir = f\"/data/prosit/figs/fig235/{which}/percolator_up/try/{frag_model}\"\n"
   ]
  },
  {
   "cell_type": "code",
   "execution_count": 4,
   "metadata": {},
   "outputs": [],
   "source": [
    "no_finetuned_dir = os.path.join(result_dir, \"no_finetuned\")\n",
    "prosit_combined = pd.read_csv(os.path.join(no_finetuned_dir, \"prosit_combined_target.psms\"), sep='\\t')\n",
    "prosit_best = pd.read_csv(os.path.join(no_finetuned_dir, \"prosit_best_target.psms\"), sep='\\t')\n",
    "sa_feat = pd.read_csv(os.path.join(no_finetuned_dir, \"sa_target.psms\"), sep='\\t')"
   ]
  },
  {
   "cell_type": "code",
   "execution_count": 5,
   "metadata": {},
   "outputs": [],
   "source": [
    "finetuned_dir = os.path.join(result_dir, \"finetuned\")\n",
    "finetune_prosit_combined = pd.read_csv(os.path.join(finetuned_dir, \"prosit_combined_target.psms\"), sep='\\t')\n",
    "finetune_prosit_best = pd.read_csv(os.path.join(finetuned_dir, \"prosit_best_target.psms\"), sep='\\t')\n",
    "finetune_sa_feat = pd.read_csv(os.path.join(finetuned_dir, \"sa_target.psms\"), sep='\\t')\n"
   ]
  },
  {
   "cell_type": "code",
   "execution_count": null,
   "metadata": {},
   "outputs": [],
   "source": [
    "import matplotlib as mpl\n",
    "plt.style.use(['ieee', \"high-vis\",'no-latex'])\n",
    "plt.rcParams[\"font.family\"] = \"DejaVu Sans\"\n",
    "\n",
    "fdr_to_show = [0.0001*(10**0.25)**i for i in range(0, 13)]\n",
    "nf_combined = []\n",
    "nf_best = []\n",
    "f_combined = []\n",
    "f_best = []\n",
    "\n",
    "scale = 1000\n",
    "for fdr in fdr_to_show:\n",
    "    nf_combined.append((prosit_combined['q-value'] < fdr).sum()/scale)\n",
    "for fdr in fdr_to_show:\n",
    "    nf_best.append((prosit_best['q-value'] < fdr).sum()/scale)\n",
    "for fdr in fdr_to_show:\n",
    "    f_combined.append((finetune_prosit_combined['q-value'] < fdr).sum()/scale)\n",
    "for fdr in fdr_to_show:\n",
    "    f_best.append((finetune_prosit_best['q-value'] < fdr).sum()/scale)\n",
    "\n",
    "fig, ax = plt.subplots(figsize=(12,6), dpi=300)\n",
    "ax.set_xscale('log')\n",
    "ax.invert_xaxis()\n",
    "fdr_to_plot = [i*100 for i in fdr_to_show]\n",
    "plt.ticklabel_format(axis='y', style='sci')\n",
    "# ax.grid()\n",
    "ax.xaxis.grid(linestyle='--')\n",
    "plt.plot(fdr_to_plot, nf_combined, marker='o',label=\"prosit\", linewidth=3)\n",
    "plt.plot(fdr_to_plot, nf_best, marker='o',label=\"prosit plus\", linewidth=3)\n",
    "plt.plot(fdr_to_plot, f_combined, marker='o',label=\"finetuned prosit\", linewidth=3)\n",
    "plt.plot(fdr_to_plot, f_best, marker='o',label=\"finetuned prosit plus\", linewidth=3)\n",
    "\n",
    "ax.set_xlabel(\"False discovery rate(%)\", fontsize=20)\n",
    "ax.set_ylabel(\"No. target PSMs(x1,000)\", fontsize=20)\n",
    "ax.tick_params(axis='x', labelsize=15)\n",
    "ax.tick_params(axis='y', labelsize=15)\n",
    "ax.get_xaxis().set_major_formatter(mpl.ticker.FuncFormatter(lambda x, p: format(float(x), ',')))\n",
    "ax.legend(loc=\"lower left\", prop={'size': 20})"
   ]
  },
  {
   "cell_type": "code",
   "execution_count": null,
   "metadata": {},
   "outputs": [],
   "source": [
    "import matplotlib as mpl\n",
    "plt.style.use(['ieee', \"high-vis\", 'no-latex'])\n",
    "plt.rcParams[\"font.family\"] = \"DejaVu Sans\"\n",
    "\n",
    "fdr_to_show = [0.00001*(10**0.25)**i for i in range(0, 13)]\n",
    "nf_sa = []\n",
    "f_sa = []\n",
    "\n",
    "scale = 1000\n",
    "for fdr in fdr_to_show:\n",
    "    nf_sa.append((sa_feat['q-value'] < fdr).sum()/scale)\n",
    "for fdr in fdr_to_show:\n",
    "    f_sa.append((finetune_sa_feat['q-value'] < fdr).sum()/scale)\n",
    "\n",
    "fig, ax = plt.subplots(figsize=(12, 6), dpi=300)\n",
    "ax.set_xscale('log')\n",
    "ax.invert_xaxis()\n",
    "fdr_to_plot = [i*100 for i in fdr_to_show]\n",
    "plt.ticklabel_format(axis='y', style='sci')\n",
    "# ax.grid()\n",
    "ax.xaxis.grid(linestyle='--')\n",
    "plt.plot(fdr_to_plot, nf_sa, marker='o', label=\"SA\", linewidth=3)\n",
    "plt.plot(fdr_to_plot, f_sa, marker='o',\n",
    "         label=\"Finetuned SA\", linewidth=3)\n",
    "\n",
    "ax.set_xlabel(\"False discovery rate(%)\", fontsize=20)\n",
    "ax.set_ylabel(\"No. target PSMs(x1,000)\", fontsize=20)\n",
    "ax.tick_params(axis='x', labelsize=15)\n",
    "ax.tick_params(axis='y', labelsize=15)\n",
    "ax.get_xaxis().set_major_formatter(\n",
    "    mpl.ticker.FuncFormatter(lambda x, p: format(float(x), ',')))\n",
    "ax.legend(loc=\"lower left\", prop={'size': 20})\n"
   ]
  },
  {
   "cell_type": "code",
   "execution_count": null,
   "metadata": {},
   "outputs": [],
   "source": []
  }
 ],
 "metadata": {
  "interpreter": {
   "hash": "17465660725f2b6bdd0101ccb038f8fe4c98405cd7a343be234717463386f391"
  },
  "kernelspec": {
   "display_name": "Python 3.9.5 ('base')",
   "language": "python",
   "name": "python3"
  },
  "language_info": {
   "codemirror_mode": {
    "name": "ipython",
    "version": 3
   },
   "file_extension": ".py",
   "mimetype": "text/x-python",
   "name": "python",
   "nbconvert_exporter": "python",
   "pygments_lexer": "ipython3",
   "version": "3.6.15"
  },
  "orig_nbformat": 4
 },
 "nbformat": 4,
 "nbformat_minor": 2
}
