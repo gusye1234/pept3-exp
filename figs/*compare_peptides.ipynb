{
 "cells": [
  {
   "cell_type": "code",
   "execution_count": 1,
   "metadata": {},
   "outputs": [],
   "source": [
    "import h5py\n",
    "import torch\n",
    "import json\n",
    "import numpy as np\n",
    "\n",
    "import os\n",
    "import sys\n",
    "sys.path.append(\"..\")\n",
    "import torch\n",
    "import json\n",
    "from pept3 import helper\n",
    "import sys\n",
    "import pandas as pd\n",
    "import bio_helper\n",
    "from pept3.model import TransPro, PrositFrag\n",
    "from tqdm import tqdm\n",
    "from pept3.dataset import FragDataset, IrtDataset\n",
    "from torch.utils.data import DataLoader\n",
    "import numpy as np\n",
    "import matplotlib.pyplot as plt\n",
    "import seaborn as sns\n",
    "%load_ext autoreload\n"
   ]
  },
  {
   "cell_type": "code",
   "execution_count": 2,
   "metadata": {},
   "outputs": [
    {
     "name": "stdout",
     "output_type": "stream",
     "text": [
      "Got 6787933 sequences\n"
     ]
    }
   ],
   "source": [
    "config_data = json.load(open(\"../checkpoints/data.json\"))\n",
    "frag_dir = config_data['frag']\n",
    "train_val = os.path.join(frag_dir, \"traintest_hcd.hdf5\")\n",
    "\n",
    "train_data = FragDataset(train_val, test_file=None, ratio=0.8)"
   ]
  },
  {
   "cell_type": "code",
   "execution_count": 4,
   "metadata": {},
   "outputs": [
    {
     "name": "stdout",
     "output_type": "stream",
     "text": [
      "330983\n"
     ]
    }
   ],
   "source": [
    "def p2s(p):\n",
    "    return \".\".join([str(i.item()) for i in p])\n",
    "all_train_peptides = set([p2s(i) for i in train_data.tx[0]])\n",
    "print(len(all_train_peptides))\n",
    "\n",
    "del train_data"
   ]
  },
  {
   "cell_type": "code",
   "execution_count": 19,
   "metadata": {},
   "outputs": [
    {
     "name": "stdout",
     "output_type": "stream",
     "text": [
      "prosit\n",
      "sprot_human\n",
      "    FDR@  0.1:  target 5699/19233, decoy 0/1922\tLeft: target 25360/156205, decoy 2/160488\n",
      "    FDR@ 0.01:  target 4489/15213, decoy 0/151\tLeft: target 26570/160225, decoy 2/162259\n",
      "    FDR@0.001:  target 3519/12517, decoy 0/11\tLeft: target 27540/162921, decoy 2/162399\n",
      "IGC\n",
      "    FDR@  0.1:  target 5036/122034, decoy 0/12202\tLeft: target 172/106098, decoy 0/101699\n",
      "    FDR@ 0.01:  target 4411/98115, decoy 0/980\tLeft: target 797/130017, decoy 0/112921\n",
      "    FDR@0.001:  target 3343/79212, decoy 0/78\tLeft: target 1865/148920, decoy 0/113823\n",
      "sprot_all\n",
      "    FDR@  0.1:  target 5074/43127, decoy 0/4311\tLeft: target 2491/144284, decoy 0/142484\n",
      "    FDR@ 0.01:  target 4063/32015, decoy 0/319\tLeft: target 3502/155396, decoy 0/146476\n",
      "    FDR@0.001:  target 3103/25193, decoy 0/24\tLeft: target 4462/162218, decoy 0/146771\n",
      "sprot_bacteria_human\n",
      "    FDR@  0.1:  target 5257/40662, decoy 0/4065\tLeft: target 4499/142968, decoy 0/141892\n",
      "    FDR@ 0.01:  target 4225/30519, decoy 0/304\tLeft: target 5531/153111, decoy 0/145653\n",
      "    FDR@0.001:  target 3230/23804, decoy 0/22\tLeft: target 6526/159826, decoy 0/145935\n",
      "trypsin\n",
      "    FDR@  0.1:  target 90556/379602, decoy 0/37959\tLeft: target 16501/123100, decoy 0/122314\n",
      "    FDR@ 0.01:  target 84698/342477, decoy 0/3423\tLeft: target 22359/160225, decoy 0/156850\n",
      "    FDR@0.001:  target 82537/330549, decoy 0/329\tLeft: target 24520/172153, decoy 0/159944\n",
      "chymo\n",
      "    FDR@  0.1:  target 88/297532, decoy 0/29752\tLeft: target 13/298480, decoy 0/296052\n",
      "    FDR@ 0.01:  target 33/246603, decoy 0/2465\tLeft: target 68/349409, decoy 0/323339\n",
      "    FDR@0.001:  target 13/197040, decoy 0/196\tLeft: target 88/398972, decoy 0/325608\n",
      "lysc\n",
      "    FDR@  0.1:  target 44474/314725, decoy 1/31471\tLeft: target 19233/185929, decoy 1/182679\n",
      "    FDR@ 0.01:  target 40289/279011, decoy 1/2789\tLeft: target 23418/221643, decoy 1/211361\n",
      "    FDR@0.001:  target 37575/257010, decoy 1/256\tLeft: target 26132/243644, decoy 1/213894\n",
      "gluc\n",
      "    FDR@  0.1:  target 143/272381, decoy 0/27237\tLeft: target 64/242079, decoy 0/232780\n",
      "    FDR@ 0.01:  target 132/230421, decoy 0/2303\tLeft: target 75/284039, decoy 0/257714\n",
      "    FDR@0.001:  target 114/194986, decoy 0/193\tLeft: target 93/319474, decoy 0/259824\n"
     ]
    }
   ],
   "source": [
    "frag_model = \"trans\"\n",
    "read_name = \"prosit\"\n",
    "\n",
    "print(read_name)\n",
    "for which in [\"sprot_human\", \"IGC\", \"sprot_all\", \"sprot_bacteria_human\"]:\n",
    "    print(which)\n",
    "    msms_file = f\"/data/prosit/figs/figure6/{which}/maxquant/txt/msms.txt\"\n",
    "    raw_dir = f\"/data/prosit/figs/figure6/all_raws\"\n",
    "    save_tab = f\"/data/prosit/figs/figure6/{which}/percolator/try/{frag_model}\"\n",
    "\n",
    "    t_t = pd.read_csv(f\"{save_tab}/{read_name}_target.psms\", sep='\\t')\n",
    "    t_t['label'] = 0\n",
    "    t_d = pd.read_csv(f\"{save_tab}/{read_name}_decoy.psms\", sep='\\t')\n",
    "    t_d['label'] = 1\n",
    "    total_table = t_t.append(t_d, ignore_index=True).sort_values(\"PSMId\")\n",
    "\n",
    "    threshold = 0.01\n",
    "    for threshold in [0.1, 0.01, 0.001]:\n",
    "        table = total_table[total_table['q-value'] < threshold]\n",
    "        peptides = table['proteinIds']\n",
    "        peptides = np.array([bio_helper.peptide_to_inter(m).reshape(-1) for m in peptides])\n",
    "        peptides = torch.from_numpy(peptides)\n",
    "        labels = table['label']\n",
    "        target_a = (labels == 0).sum()\n",
    "        decoy_a = (labels == 1).sum()\n",
    "        decoy_c, target_c = 0, 0\n",
    "        for p, l in zip(peptides, labels):\n",
    "            p = p2s(p)\n",
    "            if l == 1 and p in all_train_peptides:\n",
    "                decoy_c += 1\n",
    "            if l == 0 and p in all_train_peptides:\n",
    "                target_c += 1\n",
    "        print(f\"    FDR@{threshold:5}:  target {target_c}/{target_a}, decoy {decoy_c}/{decoy_a}\", end='\\t')\n",
    "        \n",
    "        table = total_table[total_table['q-value'] > threshold]\n",
    "        peptides = table['proteinIds']\n",
    "        peptides = np.array([bio_helper.peptide_to_inter(m).reshape(-1) for m in peptides])\n",
    "        peptides = torch.from_numpy(peptides)\n",
    "        labels = table['label']\n",
    "        target_a = (labels == 0).sum()\n",
    "        decoy_a = (labels == 1).sum()\n",
    "        decoy_c, target_c = 0, 0\n",
    "        for p, l in zip(peptides, labels):\n",
    "            p = p2s(p)\n",
    "            if l == 1 and p in all_train_peptides:\n",
    "                decoy_c += 1\n",
    "            if l == 0 and p in all_train_peptides:\n",
    "                target_c += 1\n",
    "        print(f\"Left: target {target_c}/{target_a}, decoy {decoy_c}/{decoy_a}\")\n",
    "\n",
    "for which in [\"trypsin\", 'chymo', \"lysc\", \"gluc\"]:\n",
    "    print(which)\n",
    "    save_tab = f\"/data/prosit/figs/fig235/{which}/percolator_up/try/{frag_model}\"\n",
    "    msms_file = f\"/data/prosit/figs/fig235/{which}/maxquant/combined/txt/msms.txt\"\n",
    "    raw_dir = f\"/data/prosit/figs/fig235/{which}/raw\"\n",
    "    t_t = pd.read_csv(f\"{save_tab}/{read_name}_target.psms\", sep='\\t')\n",
    "    t_t['label'] = 0\n",
    "    t_d = pd.read_csv(f\"{save_tab}/{read_name}_decoy.psms\", sep='\\t')\n",
    "    t_d['label'] = 1\n",
    "    total_table = t_t.append(t_d, ignore_index=True).sort_values(\"PSMId\")\n",
    "\n",
    "    threshold = 0.01\n",
    "    for threshold in [0.1, 0.01, 0.001]:\n",
    "        table = total_table[total_table['q-value'] < threshold]\n",
    "\n",
    "        peptides = table['proteinIds']\n",
    "        peptides = np.array(\n",
    "            [bio_helper.peptide_to_inter(m).reshape(-1) for m in peptides])\n",
    "        peptides = torch.from_numpy(peptides)\n",
    "        labels = table['label']\n",
    "        target_a = (labels == 0).sum()\n",
    "        decoy_a = (labels == 1).sum()\n",
    "        decoy_c, target_c = 0, 0\n",
    "        for p, l in zip(peptides, labels):\n",
    "            p = p2s(p)\n",
    "            if l == 1 and p in all_train_peptides:\n",
    "                decoy_c += 1\n",
    "            if l == 0 and p in all_train_peptides:\n",
    "                target_c += 1\n",
    "        print(\n",
    "            f\"    FDR@{threshold:5}:  target {target_c}/{target_a}, decoy {decoy_c}/{decoy_a}\", end='\\t')\n",
    "\n",
    "        table = total_table[total_table['q-value'] > threshold]\n",
    "        peptides = table['proteinIds']\n",
    "        peptides = np.array(\n",
    "            [bio_helper.peptide_to_inter(m).reshape(-1) for m in peptides])\n",
    "        peptides = torch.from_numpy(peptides)\n",
    "        labels = table['label']\n",
    "        target_a = (labels == 0).sum()\n",
    "        decoy_a = (labels == 1).sum()\n",
    "        decoy_c, target_c = 0, 0\n",
    "        for p, l in zip(peptides, labels):\n",
    "            p = p2s(p)\n",
    "            if l == 1 and p in all_train_peptides:\n",
    "                decoy_c += 1\n",
    "            if l == 0 and p in all_train_peptides:\n",
    "                target_c += 1\n",
    "        print(f\"Left: target {target_c}/{target_a}, decoy {decoy_c}/{decoy_a}\")\n"
   ]
  },
  {
   "cell_type": "code",
   "execution_count": 14,
   "metadata": {},
   "outputs": [],
   "source": [
    "decoy_c, target_c = 0, 0\n",
    "for p, l in zip(peptides, labels):\n",
    "    p = p2s(p)\n",
    "    if l==1 and p in all_train_peptides:\n",
    "        decoy_c += 1\n",
    "    if l==0 and p in all_train_peptides:\n",
    "        target_c += 1"
   ]
  },
  {
   "cell_type": "code",
   "execution_count": 16,
   "metadata": {},
   "outputs": [
    {
     "data": {
      "text/plain": [
       "0"
      ]
     },
     "execution_count": 16,
     "metadata": {},
     "output_type": "execute_result"
    }
   ],
   "source": [
    "target_c"
   ]
  },
  {
   "cell_type": "code",
   "execution_count": null,
   "metadata": {},
   "outputs": [],
   "source": []
  }
 ],
 "metadata": {
  "interpreter": {
   "hash": "5d2fbcc659f181c42d9e13c25fe9db4d07092f7ca37a96701b3ba6f193176db3"
  },
  "kernelspec": {
   "display_name": "Python 3.6.15 ('torch')",
   "language": "python",
   "name": "python3"
  },
  "language_info": {
   "codemirror_mode": {
    "name": "ipython",
    "version": 3
   },
   "file_extension": ".py",
   "mimetype": "text/x-python",
   "name": "python",
   "nbconvert_exporter": "python",
   "pygments_lexer": "ipython3",
   "version": "3.6.15"
  },
  "orig_nbformat": 4
 },
 "nbformat": 4,
 "nbformat_minor": 2
}
