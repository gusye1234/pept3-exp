{
 "cells": [
  {
   "cell_type": "code",
   "execution_count": 1,
   "metadata": {},
   "outputs": [],
   "source": [
    "import pandas as pd\n",
    "import seaborn as sns\n",
    "import numpy as np\n",
    "import os\n",
    "import matplotlib.pyplot as plt\n",
    "from tools import *\n",
    "from fdr_test import fixed_features\n",
    "plt.rcParams['svg.fonttype'] = 'none'"
   ]
  },
  {
   "cell_type": "code",
   "execution_count": 2,
   "metadata": {},
   "outputs": [],
   "source": [
    "def index_psmid_table(table_file, psmid):\n",
    "    table = pd.read_csv(table_file, sep='\\t')\n",
    "    return table[table['SpecId'].apply(lambda x: x in psmid)]\n",
    "\n",
    "def shared_psmid(nf_psms, f_psms, threshold=0.01):\n",
    "    nf = pd.read_csv(nf_psms, sep='\\t')\n",
    "    f = pd.read_csv(f_psms, sep='\\t')\n",
    "    nf_psmid = nf[nf['q-value'] <= threshold]['PSMId']\n",
    "    f_psmid = f[f['q-value'] <= threshold]['PSMId']\n",
    "    return set(nf_psmid).intersection(f_psmid)"
   ]
  },
  {
   "cell_type": "code",
   "execution_count": 3,
   "metadata": {},
   "outputs": [],
   "source": [
    "def set_axis_style(ax, labels):\n",
    "    ax.xaxis.set_tick_params(direction='out')\n",
    "    ax.xaxis.set_ticks_position('bottom')\n",
    "    ax.set_xticks(np.arange(1, len(labels) + 1),)\n",
    "    ax.set_xticklabels(labels, fontsize=15)\n",
    "    ax.set_xlim(0.25, len(labels) + 0.75)\n",
    "    # ax.set_xlabel('Sample name')\n",
    "\n",
    "def plot_half_violin(data_dict : dict):\n",
    "    fig, ax = plt.subplots(figsize=(4, 6), dpi=100)\n",
    "    labels = list(data_dict)\n",
    "\n",
    "    no_finetuned = [v[0] for v in data_dict.values()] \n",
    "    finetuned = [v[1] for v in data_dict.values()] \n",
    "\n",
    "    mins = [min(np.min(i), np.min(j)) for i, j in zip(no_finetuned, finetuned)]\n",
    "    maxs = [max(np.max(i), np.max(j)) for i, j in zip(no_finetuned, finetuned)]\n",
    "\n",
    "    plot1 = ax.violinplot(no_finetuned, showmeans=False, showextrema=False, showmedians=False)\n",
    "    for b in plot1['bodies']:\n",
    "        # get the center\n",
    "        m = np.mean(b.get_paths()[0].vertices[:, 0])\n",
    "        # modify the paths to not go further right than the center\n",
    "        b.get_paths()[0].vertices[:, 0] = np.clip(b.get_paths()[0].vertices[:, 0], -np.inf, m)\n",
    "        b.set_edgecolor('lightgray')\n",
    "        # b.set_edgewidth(2)\n",
    "    plot2 = ax.violinplot(finetuned, showmeans=False, showextrema=False, showmedians=False)\n",
    "    for b in plot2['bodies']:\n",
    "        # get the center\n",
    "        m = np.mean(b.get_paths()[0].vertices[:, 0])\n",
    "        # modify the paths to not go further left than the center\n",
    "        b.get_paths()[0].vertices[:, 0] = np.clip(b.get_paths()[0].vertices[:, 0], m, np.inf)\n",
    "        # b.set_color('b')\n",
    "        b.set_edgecolor('lightgray')\n",
    "        # b.set_edgewidth(2)\n",
    "    for i in range(len(labels)):\n",
    "        ax.text(i+1-0.2, 0.4, f\"n={len(finetuned[i])}\", fontsize=8, rotation=90, va='center')\n",
    "    # ax.vlines([i+1 for i in range(len(labels))], mins, maxs, color='gray', linestyles='--', lw=1)\n",
    "    \n",
    "    x_axises = np.array([i+1 for i in range(len(labels))])\n",
    "    nf_sa_mean = [np.mean(i) for i in no_finetuned]\n",
    "    f_sa_mean = [np.mean(i) for i in finetuned]\n",
    "\n",
    "    ax.hlines(nf_sa_mean, x_axises-0.2, x_axises, color='slateblue', linestyles='-', lw=1)\n",
    "    ax.hlines(f_sa_mean, x_axises, x_axises+0.2, color='orange', linestyles='-', lw=1)\n",
    "    ax.legend([plot1['bodies'][0],plot2['bodies'][0]],['No fine-tuned', 'Fine-tuned'], loc='lower right', frameon=False)\n",
    "    set_axis_style(ax, labels)\n",
    "    ax.set_ylabel(\"Spectral Angle\", fontsize=15)\n",
    "    return fig, ax\n",
    "\n",
    "    "
   ]
  },
  {
   "cell_type": "code",
   "execution_count": null,
   "metadata": {},
   "outputs": [],
   "source": [
    "which = \"chymo\"\n",
    "msms_file = f\"/data/prosit/figs/fig235/{which}/maxquant/combined/txt/msms.txt\"\n",
    "raw_dir = f\"/data/prosit/figs/fig235/{which}/raw\"\n",
    "fixed_features_dir = f\"/data/prosit/figs/fig235/{which}/percolator_up/try/prosit_l1\"\n",
    "tabels_file = fixed_features(\n",
    "    msms_file, raw_dir, fixed_features_dir)\n",
    "\n",
    "name, msms_data = tools.read_msms(msms_file)\n",
    "msms_data = tools.filter_msms(name, msms_data)"
   ]
  }
 ],
 "metadata": {
  "kernelspec": {
   "display_name": "Python 3.6.15 ('torch')",
   "language": "python",
   "name": "python3"
  },
  "language_info": {
   "codemirror_mode": {
    "name": "ipython",
    "version": 3
   },
   "file_extension": ".py",
   "mimetype": "text/x-python",
   "name": "python",
   "nbconvert_exporter": "python",
   "pygments_lexer": "ipython3",
   "version": "3.6.15"
  },
  "orig_nbformat": 4,
  "vscode": {
   "interpreter": {
    "hash": "5d2fbcc659f181c42d9e13c25fe9db4d07092f7ca37a96701b3ba6f193176db3"
   }
  }
 },
 "nbformat": 4,
 "nbformat_minor": 2
}
