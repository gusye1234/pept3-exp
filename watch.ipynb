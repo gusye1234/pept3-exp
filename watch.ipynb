{
 "cells": [
  {
   "cell_type": "code",
   "execution_count": 1,
   "metadata": {},
   "outputs": [],
   "source": [
    "import pandas as pd"
   ]
  },
  {
   "cell_type": "code",
   "execution_count": null,
   "metadata": {},
   "outputs": [],
   "source": [
    "# HLA\n",
    "frag_model = \"prosit_l1\"\n",
    "which = \"Mel-8_HLA-I\"\n",
    "\n",
    "origin_prosit_tab = f\"/data1/yejb/prosit/figure3/forPRIDE/Alleles/{which}/percolator/prosit_target.psms\"\n",
    "f1 =  "
   ]
  }
 ],
 "metadata": {
  "kernelspec": {
   "display_name": "Python 3.9.5 ('base')",
   "language": "python",
   "name": "python3"
  },
  "language_info": {
   "codemirror_mode": {
    "name": "ipython",
    "version": 3
   },
   "file_extension": ".py",
   "mimetype": "text/x-python",
   "name": "python",
   "nbconvert_exporter": "python",
   "pygments_lexer": "ipython3",
   "version": "3.9.5"
  },
  "orig_nbformat": 4,
  "vscode": {
   "interpreter": {
    "hash": "17465660725f2b6bdd0101ccb038f8fe4c98405cd7a343be234717463386f391"
   }
  }
 },
 "nbformat": 4,
 "nbformat_minor": 2
}
